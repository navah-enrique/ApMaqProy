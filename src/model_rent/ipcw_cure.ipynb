{
 "cells": [
  {
   "cell_type": "markdown",
   "metadata": {},
   "source": [
    "# IPWC Bug\n",
    "\n",
    "@roman_avj\n",
    "1 Nov 23\n",
    "\n",
    "Look how to fix the $\\hat{G}(t_{n}) == 0$"
   ]
  },
  {
   "cell_type": "code",
   "execution_count": 48,
   "metadata": {},
   "outputs": [],
   "source": [
    "# libraries\n",
    "import pandas as pd\n",
    "import numpy as np\n",
    "import matplotlib.pyplot as plt\n",
    "import seaborn as sns\n",
    "import os\n",
    "import sys\n",
    "\n",
    "from sklearn.pipeline import Pipeline, make_pipeline\n",
    "from sksurv.preprocessing import OneHotEncoder\n",
    "from sklearn.preprocessing import StandardScaler\n",
    "from sklearn.preprocessing import PowerTransformer\n",
    "from sklearn.model_selection import train_test_split, GridSearchCV, KFold\n",
    "from sksurv.metrics import (\n",
    "    concordance_index_censored,\n",
    "    concordance_index_ipcw,\n",
    "    cumulative_dynamic_auc,\n",
    "    integrated_brier_score,\n",
    ")\n",
    "from sksurv.linear_model import CoxPHSurvivalAnalysis, CoxnetSurvivalAnalysis, IPCRidge\n",
    "from sksurv.ensemble import RandomSurvivalForest, ExtraSurvivalTrees, GradientBoostingSurvivalAnalysis\n",
    "from scipy.integrate import simpson"
   ]
  },
  {
   "cell_type": "markdown",
   "metadata": {},
   "source": [
    "# Data"
   ]
  },
  {
   "cell_type": "markdown",
   "metadata": {},
   "source": [
    "## Preprocessing"
   ]
  },
  {
   "cell_type": "code",
   "execution_count": 75,
   "metadata": {},
   "outputs": [
    {
     "name": "stdout",
     "output_type": "stream",
     "text": [
      "<class 'pandas.core.frame.DataFrame'>\n",
      "RangeIndex: 73938 entries, 0 to 73937\n",
      "Columns: 141 entries, id to cosine_tmonth\n",
      "dtypes: datetime64[us](2), float64(122), int32(1), int64(4), object(9), string(3)\n",
      "memory usage: 79.3+ MB\n"
     ]
    }
   ],
   "source": [
    "# read\n",
    "df_model = pd.read_parquet('../../data/data2analyze_clean_v2.parquet')\n",
    "df_model.info()"
   ]
  },
  {
   "cell_type": "code",
   "execution_count": 76,
   "metadata": {},
   "outputs": [],
   "source": [
    "# add if has maintenance\n",
    "df_model['has_maintenance'] = df_model['cost_of_maintenance'].apply(lambda x: 1 if x > 0 else 0)"
   ]
  },
  {
   "cell_type": "code",
   "execution_count": 77,
   "metadata": {},
   "outputs": [],
   "source": [
    "# clip columns with 'lag' up to 99 percentile\n",
    "vars_lag = df_model.columns[df_model.columns.str.contains('lag')]\n",
    "df_model[vars_lag] = df_model[vars_lag].clip(upper=df_model[vars_lag].quantile(0.99), axis=1)"
   ]
  },
  {
   "cell_type": "code",
   "execution_count": 78,
   "metadata": {},
   "outputs": [
    {
     "name": "stdout",
     "output_type": "stream",
     "text": [
      "21\n",
      "21\n"
     ]
    }
   ],
   "source": [
    "# select columns\n",
    "vars_x_categorical = ['listing_type', 'property_type']\n",
    "vars_x_discrete = ['num_bedrooms', 'sine_tmonth', 'cosine_tmonth']\n",
    "vars_x_numerical = ['woe_marketplace', 'woe_seller', 'woe_id_sepomex', \n",
    "    'first_price', 'diff_first_prediction', \n",
    "    'prediction_price_per_square_meter',\n",
    "    'surface_total', 'page_on_marketplace',\n",
    "    'is_new_property_prob', 'total_cost_of_living', 'days_active', 'relative_cost_of_living']\n",
    "vars_x_binary = ['is_exterior', 'has_gym', 'pets_allowed', 'has_maintenance']\n",
    "\n",
    "vars_x_names = vars_x_categorical + vars_x_numerical + vars_x_binary + vars_x_discrete\n",
    "\n",
    "# corroborate there are not duplicates in the vars_x_names\n",
    "print(len(vars_x_names))\n",
    "print(len(set(vars_x_names)))"
   ]
  },
  {
   "cell_type": "markdown",
   "metadata": {},
   "source": [
    "### Train & Test"
   ]
  },
  {
   "cell_type": "code",
   "execution_count": 79,
   "metadata": {},
   "outputs": [
    {
     "name": "stdout",
     "output_type": "stream",
     "text": [
      "<class 'pandas.core.frame.DataFrame'>\n",
      "RangeIndex: 73938 entries, 0 to 73937\n",
      "Data columns (total 21 columns):\n",
      " #   Column                             Non-Null Count  Dtype   \n",
      "---  ------                             --------------  -----   \n",
      " 0   listing_type                       73938 non-null  category\n",
      " 1   property_type                      73938 non-null  category\n",
      " 2   woe_marketplace                    73938 non-null  float64 \n",
      " 3   woe_seller                         73938 non-null  float64 \n",
      " 4   woe_id_sepomex                     73938 non-null  float64 \n",
      " 5   first_price                        73938 non-null  float64 \n",
      " 6   diff_first_prediction              73938 non-null  float64 \n",
      " 7   prediction_price_per_square_meter  73938 non-null  float64 \n",
      " 8   surface_total                      73938 non-null  float64 \n",
      " 9   page_on_marketplace                73938 non-null  float64 \n",
      " 10  is_new_property_prob               73938 non-null  float64 \n",
      " 11  total_cost_of_living               73938 non-null  float64 \n",
      " 12  days_active                        73938 non-null  float64 \n",
      " 13  relative_cost_of_living            73938 non-null  float64 \n",
      " 14  is_exterior                        73938 non-null  int8    \n",
      " 15  has_gym                            73938 non-null  int8    \n",
      " 16  pets_allowed                       73938 non-null  int8    \n",
      " 17  has_maintenance                    73938 non-null  int8    \n",
      " 18  num_bedrooms                       73938 non-null  float64 \n",
      " 19  sine_tmonth                        73938 non-null  float64 \n",
      " 20  cosine_tmonth                      73938 non-null  float64 \n",
      "dtypes: category(2), float64(15), int8(4)\n",
      "memory usage: 8.9 MB\n"
     ]
    }
   ],
   "source": [
    "# get y data as sksurv need\n",
    "data_y = np.array(\n",
    "    list(zip(df_model['event'], df_model['time2event'])),\n",
    "    dtype=[('Status', '?'), ('Survival_in_days', '<f8')]\n",
    ")\n",
    "\n",
    "# get x data\n",
    "data_x = (\n",
    "    df_model.copy()\n",
    "    .assign(prediction_price=lambda x: x['first_price'].div(1e+6))\n",
    "    .astype({col: 'category' for col in vars_x_categorical})\n",
    "    .astype({col: np.float64 for col in vars_x_numerical})\n",
    "    .astype({col: np.int8 for col in vars_x_binary})\n",
    "    [vars_x_names]\n",
    ")\n",
    "data_x.info()"
   ]
  },
  {
   "cell_type": "code",
   "execution_count": 80,
   "metadata": {},
   "outputs": [
    {
     "name": "stdout",
     "output_type": "stream",
     "text": [
      "<class 'pandas.core.frame.DataFrame'>\n",
      "RangeIndex: 73938 entries, 0 to 73937\n",
      "Data columns (total 21 columns):\n",
      " #   Column                             Non-Null Count  Dtype  \n",
      "---  ------                             --------------  -----  \n",
      " 0   listing_type=for-sale              73938 non-null  float64\n",
      " 1   property_type=house                73938 non-null  float64\n",
      " 2   woe_marketplace                    73938 non-null  float64\n",
      " 3   woe_seller                         73938 non-null  float64\n",
      " 4   woe_id_sepomex                     73938 non-null  float64\n",
      " 5   first_price                        73938 non-null  float64\n",
      " 6   diff_first_prediction              73938 non-null  float64\n",
      " 7   prediction_price_per_square_meter  73938 non-null  float64\n",
      " 8   surface_total                      73938 non-null  float64\n",
      " 9   page_on_marketplace                73938 non-null  float64\n",
      " 10  is_new_property_prob               73938 non-null  float64\n",
      " 11  total_cost_of_living               73938 non-null  float64\n",
      " 12  days_active                        73938 non-null  float64\n",
      " 13  relative_cost_of_living            73938 non-null  float64\n",
      " 14  is_exterior                        73938 non-null  int8   \n",
      " 15  has_gym                            73938 non-null  int8   \n",
      " 16  pets_allowed                       73938 non-null  int8   \n",
      " 17  has_maintenance                    73938 non-null  int8   \n",
      " 18  num_bedrooms                       73938 non-null  float64\n",
      " 19  sine_tmonth                        73938 non-null  float64\n",
      " 20  cosine_tmonth                      73938 non-null  float64\n",
      "dtypes: float64(17), int8(4)\n",
      "memory usage: 9.9 MB\n"
     ]
    }
   ],
   "source": [
    "# one hot encoding\n",
    "data_x_numeric = OneHotEncoder().fit_transform(data_x)\n",
    "data_x_numeric.info()\n",
    "\n",
    "colnames_x_numeric = data_x_numeric.columns\n",
    "data_x_numeric = data_x_numeric.to_numpy()\n",
    "\n",
    "# boxcox\n",
    "location_cols_boxcox = [colnames_x_numeric.get_loc(col) for col in vars_x_numerical]\n",
    "\n",
    "data_x_numeric_aux = data_x_numeric[:, location_cols_boxcox] / 1e+6\n",
    "data_x_numeric_aux = PowerTransformer(method='yeo-johnson', standardize=True).fit_transform(data_x_numeric_aux)\n",
    "data_x_numeric[:,location_cols_boxcox] = data_x_numeric_aux\n",
    "\n",
    "# scale\n",
    "location_cols_scale = [colnames_x_numeric.get_loc(col) for col in vars_x_discrete]\n",
    "data_x_numeric_aux = data_x_numeric[:, location_cols_scale]\n",
    "data_x_numeric_aux = StandardScaler().fit_transform(data_x_numeric_aux)\n",
    "data_x_numeric[:,location_cols_scale] = data_x_numeric_aux"
   ]
  },
  {
   "cell_type": "code",
   "execution_count": 81,
   "metadata": {},
   "outputs": [],
   "source": [
    "# split train & test\n",
    "X_train, X_test, y_train, y_test = train_test_split(\n",
    "    data_x_numeric, data_y, test_size=0.2, random_state=42, stratify=data_x['listing_type']\n",
    ")"
   ]
  },
  {
   "cell_type": "markdown",
   "metadata": {},
   "source": [
    "# Validate IPWC metric"
   ]
  },
  {
   "cell_type": "code",
   "execution_count": 56,
   "metadata": {},
   "outputs": [
    {
     "ename": "AssertionError",
     "evalue": "",
     "output_type": "error",
     "traceback": [
      "\u001b[0;31m---------------------------------------------------------------------------\u001b[0m",
      "\u001b[0;31mAssertionError\u001b[0m                            Traceback (most recent call last)",
      "\u001b[1;32m/Users/ravj/Documents/work/dd3/models/ds-liquidity/src/model/ipcw_cure.ipynb Cell 14\u001b[0m line \u001b[0;36m4\n\u001b[1;32m      <a href='vscode-notebook-cell:/Users/ravj/Documents/work/dd3/models/ds-liquidity/src/model/ipcw_cure.ipynb#X16sZmlsZQ%3D%3D?line=0'>1</a>\u001b[0m \u001b[39mfrom\u001b[39;00m \u001b[39msksurv\u001b[39;00m\u001b[39m.\u001b[39;00m\u001b[39mnonparametric\u001b[39;00m \u001b[39mimport\u001b[39;00m kaplan_meier_estimator, ipc_weights, CensoringDistributionEstimator\n\u001b[1;32m      <a href='vscode-notebook-cell:/Users/ravj/Documents/work/dd3/models/ds-liquidity/src/model/ipcw_cure.ipynb#X16sZmlsZQ%3D%3D?line=2'>3</a>\u001b[0m \u001b[39m# ipc weights\u001b[39;00m\n\u001b[0;32m----> <a href='vscode-notebook-cell:/Users/ravj/Documents/work/dd3/models/ds-liquidity/src/model/ipcw_cure.ipynb#X16sZmlsZQ%3D%3D?line=3'>4</a>\u001b[0m ipc_weights_train \u001b[39m=\u001b[39m ipc_weights(y_train[\u001b[39m'\u001b[39;49m\u001b[39mStatus\u001b[39;49m\u001b[39m'\u001b[39;49m], y_train[\u001b[39m'\u001b[39;49m\u001b[39mSurvival_in_days\u001b[39;49m\u001b[39m'\u001b[39;49m])\n",
      "File \u001b[0;32m~/opt/anaconda3/envs/dd3surv/lib/python3.9/site-packages/sksurv/nonparametric.py:408\u001b[0m, in \u001b[0;36mipc_weights\u001b[0;34m(event, time)\u001b[0m\n\u001b[1;32m    405\u001b[0m idx \u001b[39m=\u001b[39m np\u001b[39m.\u001b[39msearchsorted(unique_time, time[event])\n\u001b[1;32m    406\u001b[0m Ghat \u001b[39m=\u001b[39m p[idx]\n\u001b[0;32m--> 408\u001b[0m \u001b[39massert\u001b[39;00m (Ghat \u001b[39m>\u001b[39m \u001b[39m0\u001b[39m)\u001b[39m.\u001b[39mall()\n\u001b[1;32m    410\u001b[0m weights \u001b[39m=\u001b[39m np\u001b[39m.\u001b[39mzeros(time\u001b[39m.\u001b[39mshape[\u001b[39m0\u001b[39m])\n\u001b[1;32m    411\u001b[0m weights[event] \u001b[39m=\u001b[39m \u001b[39m1.0\u001b[39m \u001b[39m/\u001b[39m Ghat\n",
      "\u001b[0;31mAssertionError\u001b[0m: "
     ]
    }
   ],
   "source": [
    "from sksurv.nonparametric import kaplan_meier_estimator, ipc_weights, CensoringDistributionEstimator\n",
    "\n",
    "# ipc weights\n",
    "ipc_weights_train = ipc_weights(y_train['Status'], y_train['Survival_in_days'])"
   ]
  },
  {
   "cell_type": "code",
   "execution_count": 58,
   "metadata": {},
   "outputs": [
    {
     "ename": "ValueError",
     "evalue": "censoring survival function is zero at one or more time points",
     "output_type": "error",
     "traceback": [
      "\u001b[0;31m---------------------------------------------------------------------------\u001b[0m",
      "\u001b[0;31mValueError\u001b[0m                                Traceback (most recent call last)",
      "\u001b[1;32m/Users/ravj/Documents/work/dd3/models/ds-liquidity/src/model/ipcw_cure.ipynb Cell 15\u001b[0m line \u001b[0;36m4\n\u001b[1;32m      <a href='vscode-notebook-cell:/Users/ravj/Documents/work/dd3/models/ds-liquidity/src/model/ipcw_cure.ipynb#X20sZmlsZQ%3D%3D?line=1'>2</a>\u001b[0m cde \u001b[39m=\u001b[39m CensoringDistributionEstimator()\n\u001b[1;32m      <a href='vscode-notebook-cell:/Users/ravj/Documents/work/dd3/models/ds-liquidity/src/model/ipcw_cure.ipynb#X20sZmlsZQ%3D%3D?line=2'>3</a>\u001b[0m cde\u001b[39m.\u001b[39mfit(y_train)\n\u001b[0;32m----> <a href='vscode-notebook-cell:/Users/ravj/Documents/work/dd3/models/ds-liquidity/src/model/ipcw_cure.ipynb#X20sZmlsZQ%3D%3D?line=3'>4</a>\u001b[0m cde_train \u001b[39m=\u001b[39m cde\u001b[39m.\u001b[39;49mpredict_ipcw(y_train)\n",
      "File \u001b[0;32m~/opt/anaconda3/envs/dd3surv/lib/python3.9/site-packages/sksurv/nonparametric.py:583\u001b[0m, in \u001b[0;36mCensoringDistributionEstimator.predict_ipcw\u001b[0;34m(self, y)\u001b[0m\n\u001b[1;32m    580\u001b[0m Ghat \u001b[39m=\u001b[39m \u001b[39mself\u001b[39m\u001b[39m.\u001b[39mpredict_proba(time[event])\n\u001b[1;32m    582\u001b[0m \u001b[39mif\u001b[39;00m (Ghat \u001b[39m==\u001b[39m \u001b[39m0.0\u001b[39m)\u001b[39m.\u001b[39many():\n\u001b[0;32m--> 583\u001b[0m     \u001b[39mraise\u001b[39;00m \u001b[39mValueError\u001b[39;00m(\u001b[39m\"\u001b[39m\u001b[39mcensoring survival function is zero at one or more time points\u001b[39m\u001b[39m\"\u001b[39m)\n\u001b[1;32m    585\u001b[0m weights \u001b[39m=\u001b[39m np\u001b[39m.\u001b[39mzeros(time\u001b[39m.\u001b[39mshape[\u001b[39m0\u001b[39m])\n\u001b[1;32m    586\u001b[0m weights[event] \u001b[39m=\u001b[39m \u001b[39m1.0\u001b[39m \u001b[39m/\u001b[39m Ghat\n",
      "\u001b[0;31mValueError\u001b[0m: censoring survival function is zero at one or more time points"
     ]
    }
   ],
   "source": [
    "# censoring distribution\n",
    "cde = CensoringDistributionEstimator()\n",
    "cde.fit(y_train)\n",
    "cde_train = cde.predict_ipcw(y_train)\n"
   ]
  },
  {
   "cell_type": "code",
   "execution_count": 14,
   "metadata": {},
   "outputs": [
    {
     "data": {
      "text/plain": [
       "array([(False,  26.), (False, 154.), ( True,  74.), ( True,  20.),\n",
       "       ( True,  85.)],\n",
       "      dtype=[('Status', '?'), ('Survival_in_days', '<f8')])"
      ]
     },
     "execution_count": 14,
     "metadata": {},
     "output_type": "execute_result"
    }
   ],
   "source": [
    "y_train[:5]"
   ]
  },
  {
   "cell_type": "code",
   "execution_count": 15,
   "metadata": {},
   "outputs": [
    {
     "data": {
      "text/plain": [
       "array([(False,  26.), (False, 154.), ( True,  74.)],\n",
       "      dtype=[('Status', '?'), ('Survival_in_days', '<f8')])"
      ]
     },
     "execution_count": 15,
     "metadata": {},
     "output_type": "execute_result"
    }
   ],
   "source": [
    "y_train[:3]"
   ]
  },
  {
   "cell_type": "code",
   "execution_count": 16,
   "metadata": {},
   "outputs": [
    {
     "data": {
      "text/plain": [
       "[<matplotlib.lines.Line2D at 0x7f7a60180cd0>]"
      ]
     },
     "execution_count": 16,
     "metadata": {},
     "output_type": "execute_result"
    },
    {
     "data": {
      "image/png": "[encoded data removed]",
      "text/plain": [
       "<Figure size 640x480 with 1 Axes>"
      ]
     },
     "metadata": {},
     "output_type": "display_data"
    }
   ],
   "source": [
    "# get censoring survival function\n",
    "km = kaplan_meier_estimator(y_train['Status'][:3], y_train['Survival_in_days'][:3], reverse=True)\n",
    "\n",
    "# plot censoring survival function\n",
    "plt.step(km[0], km[1], where=\"post\")"
   ]
  },
  {
   "cell_type": "code",
   "execution_count": 17,
   "metadata": {},
   "outputs": [
    {
     "data": {
      "text/plain": [
       "0.6666666666666667"
      ]
     },
     "execution_count": 17,
     "metadata": {},
     "output_type": "execute_result"
    }
   ],
   "source": [
    "km[1][-2]"
   ]
  },
  {
   "cell_type": "markdown",
   "metadata": {},
   "source": [
    "### Look if last time for train and test are observed"
   ]
  },
  {
   "cell_type": "code",
   "execution_count": 18,
   "metadata": {},
   "outputs": [
    {
     "data": {
      "text/plain": [
       "(False, 178.)"
      ]
     },
     "execution_count": 18,
     "metadata": {},
     "output_type": "execute_result"
    }
   ],
   "source": [
    "# look last time in train\n",
    "imax = np.argmax(y_train['Survival_in_days'])\n",
    "y_train[imax]"
   ]
  },
  {
   "cell_type": "code",
   "execution_count": 19,
   "metadata": {},
   "outputs": [
    {
     "data": {
      "text/plain": [
       "(False, 178.)"
      ]
     },
     "execution_count": 19,
     "metadata": {},
     "output_type": "execute_result"
    }
   ],
   "source": [
    "# look last time in train\n",
    "imax = np.argmax(y_test['Survival_in_days'])\n",
    "y_test[imax]"
   ]
  },
  {
   "cell_type": "code",
   "execution_count": 20,
   "metadata": {},
   "outputs": [
    {
     "data": {
      "text/plain": [
       "array([(False, 178.), (False, 178.), (False, 178.), (False, 178.),\n",
       "       (False, 178.), ( True, 178.), ( True, 178.), ( True, 178.),\n",
       "       ( True, 178.)],\n",
       "      dtype=[('Status', '?'), ('Survival_in_days', '<f8')])"
      ]
     },
     "execution_count": 20,
     "metadata": {},
     "output_type": "execute_result"
    }
   ],
   "source": [
    "# sort train by time\n",
    "y_train_aux = np.sort(y_train, order=['Survival_in_days'])\n",
    "y_train_aux[-10:-1]"
   ]
  },
  {
   "cell_type": "markdown",
   "metadata": {},
   "source": [
    "## Look by hand"
   ]
  },
  {
   "cell_type": "code",
   "execution_count": 96,
   "metadata": {},
   "outputs": [],
   "source": [
    "event, time = y_train['Status'], y_train['Survival_in_days']\n",
    "unique_time, p = kaplan_meier_estimator(event, time, reverse=True)\n",
    "\n",
    "idx = np.searchsorted(unique_time, time[event])\n",
    "Ghat = p[idx]"
   ]
  },
  {
   "cell_type": "code",
   "execution_count": 90,
   "metadata": {},
   "outputs": [
    {
     "name": "stdout",
     "output_type": "stream",
     "text": [
      "[  5.   5.   5. ... 178. 178. 178.]\n",
      "\n",
      "\n",
      "[  5.   5.   5. ... 178. 178. 178.]\n",
      "[  5.   5.   5. ... 178. 178. 178.]\n"
     ]
    }
   ],
   "source": [
    "print(np.sort(time))\n",
    "print(\"\\n\")\n",
    "print(np.sort(time[event]))\n",
    "print(np.sort(time[~event]))"
   ]
  },
  {
   "cell_type": "code",
   "execution_count": 84,
   "metadata": {},
   "outputs": [
    {
     "name": "stdout",
     "output_type": "stream",
     "text": [
      "(174,)\n",
      "[  5.   6.   7.   8.   9.  10.  11.  12.  13.  14.  15.  16.  17.  18.\n",
      "  19.  20.  21.  22.  23.  24.  25.  26.  27.  28.  29.  30.  31.  32.\n",
      "  33.  34.  35.  36.  37.  38.  39.  40.  41.  42.  43.  44.  45.  46.\n",
      "  47.  48.  49.  50.  51.  52.  53.  54.  55.  56.  57.  58.  59.  60.\n",
      "  61.  62.  63.  64.  65.  66.  67.  68.  69.  70.  71.  72.  73.  74.\n",
      "  75.  76.  77.  78.  79.  80.  81.  82.  83.  84.  85.  86.  87.  88.\n",
      "  89.  90.  91.  92.  93.  94.  95.  96.  97.  98.  99. 100. 101. 102.\n",
      " 103. 104. 105. 106. 107. 108. 109. 110. 111. 112. 113. 114. 115. 116.\n",
      " 117. 118. 119. 120. 121. 122. 123. 124. 125. 126. 127. 128. 129. 130.\n",
      " 131. 132. 133. 134. 135. 136. 137. 138. 139. 140. 141. 142. 143. 144.\n",
      " 145. 146. 147. 148. 149. 150. 151. 152. 153. 154. 155. 156. 157. 158.\n",
      " 159. 160. 161. 162. 163. 164. 165. 166. 167. 168. 169. 170. 171. 172.\n",
      " 173. 174. 175. 176. 177. 178.]\n"
     ]
    }
   ],
   "source": [
    "print(unique_time.shape)\n",
    "print(unique_time)"
   ]
  },
  {
   "cell_type": "code",
   "execution_count": 85,
   "metadata": {},
   "outputs": [
    {
     "name": "stdout",
     "output_type": "stream",
     "text": [
      "[0.9999154  0.99874223 0.99840099 0.99752529 0.99480738 0.990766\n",
      " 0.98728349 0.98397652 0.97098643 0.96914371 0.96696527 0.96326909\n",
      " 0.95878966 0.95374596 0.94802364 0.9427611  0.94061139 0.93922452\n",
      " 0.93535759 0.92824113 0.92152398 0.91448155 0.9079468  0.90566807\n",
      " 0.90422957 0.89968258 0.89293695 0.88598364 0.87945902 0.87341802\n",
      " 0.8709079  0.8684624  0.86412632 0.85839928 0.84837895 0.84119773\n",
      " 0.83097447 0.82875743 0.8263068  0.82251021 0.816468   0.81061053\n",
      " 0.80476344 0.80041689 0.79849972 0.79398315 0.79019795 0.78417664\n",
      " 0.77969174 0.77537402 0.76792977 0.76582293 0.76383293 0.7603433\n",
      " 0.7555726  0.74963523 0.74443936 0.73915433 0.73634136 0.73394249\n",
      " 0.72890116 0.72326045 0.71796858 0.71225623 0.70553609 0.70210903\n",
      " 0.70010403 0.69606652 0.6899524  0.68434134 0.67917778 0.67284763\n",
      " 0.67057715 0.66788672 0.66471885 0.65865125 0.65313914 0.647948\n",
      " 0.64132889 0.63862991 0.63668738 0.63254868 0.62674112 0.61757588\n",
      " 0.60756975 0.59673053 0.59343815 0.58978319 0.58417399 0.57827622\n",
      " 0.57069247 0.56487773 0.55782213 0.55479853 0.55219443 0.54800924\n",
      " 0.54350957 0.53821963 0.53131018 0.51945499 0.51746118 0.51238803\n",
      " 0.49446016 0.48719667 0.48257575 0.4770073  0.4721485  0.46838834\n",
      " 0.46304388 0.45917324 0.45325122 0.44621384 0.44052535 0.41093727\n",
      " 0.40875023 0.40723296 0.40471258 0.39954866 0.39624985 0.39245345\n",
      " 0.385464   0.38183135 0.38021205 0.37719773 0.3727543  0.37035157\n",
      " 0.36519724 0.35939775 0.3553615  0.35078121 0.34242306 0.33285768\n",
      " 0.22888959 0.22345924 0.21831379 0.21627261 0.21506178 0.21168237\n",
      " 0.20587373 0.20074141 0.1968829  0.19069863 0.18773493 0.18649644\n",
      " 0.18294014 0.17887718 0.17341027 0.16728073 0.15874885 0.15564771\n",
      " 0.15430076 0.15188273 0.14686699 0.14209342 0.13691728 0.13117615\n",
      " 0.1275921  0.12468815 0.11970063 0.11314697 0.10713917 0.0989622\n",
      " 0.09032792 0.0880295  0.08684631 0.08159048 0.07414714 0.0625415\n",
      " 0.04996332 0.03881766 0.03315675 0.03050421 0.02049501 0.        ]\n"
     ]
    }
   ],
   "source": [
    "print(p)"
   ]
  },
  {
   "cell_type": "markdown",
   "metadata": {},
   "source": [
    "I think this will work out if I add a sinthetical time to the censoring data, adding only a (max_time + 1, True) "
   ]
  },
  {
   "cell_type": "code",
   "execution_count": 115,
   "metadata": {},
   "outputs": [
    {
     "data": {
      "text/plain": [
       "array([(False,  26.), (False, 154.), ( True,  74.), ..., ( True,  15.),\n",
       "       ( True,  75.), ( True,  16.)],\n",
       "      dtype=[('Status', '?'), ('Survival_in_days', '<f8')])"
      ]
     },
     "execution_count": 115,
     "metadata": {},
     "output_type": "execute_result"
    }
   ],
   "source": [
    "y_train"
   ]
  },
  {
   "cell_type": "markdown",
   "metadata": {},
   "source": [
    "# SOLUCIÓN"
   ]
  },
  {
   "cell_type": "code",
   "execution_count": 117,
   "metadata": {},
   "outputs": [],
   "source": [
    "# create a synthetic time \n",
    "ymax = y_train['Survival_in_days'].max()\n",
    "\n",
    "# append time_synthetic to y_train, be careful with named array (dtype=[('Status', '?'), ('Survival_in_days', '<f8')])\n",
    "time_synthetic = np.array(\n",
    "    [(True, ymax + 1)],\n",
    "    dtype=[('Status', '?'), ('Survival_in_days', '<f8')]\n",
    ")\n",
    "\n",
    "y_train_synthetic = np.append(y_train, time_synthetic)\n"
   ]
  },
  {
   "cell_type": "code",
   "execution_count": 120,
   "metadata": {},
   "outputs": [],
   "source": [
    "event, time = y_train_synthetic['Status'], y_train_synthetic['Survival_in_days']\n",
    "unique_time, p = kaplan_meier_estimator(event, time, reverse=True)\n",
    "\n",
    "idx3 = np.searchsorted(unique_time, time[event])\n",
    "Ghat3 = p[idx3]"
   ]
  },
  {
   "cell_type": "code",
   "execution_count": 121,
   "metadata": {},
   "outputs": [
    {
     "data": {
      "text/plain": [
       "False"
      ]
     },
     "execution_count": 121,
     "metadata": {},
     "output_type": "execute_result"
    }
   ],
   "source": [
    "(Ghat3 == 0).any()"
   ]
  },
  {
   "cell_type": "code",
   "execution_count": 122,
   "metadata": {},
   "outputs": [],
   "source": [
    "# censoring distribution\n",
    "cde = CensoringDistributionEstimator()\n",
    "cde.fit(y_train_synthetic)\n",
    "cde_train = cde.predict_ipcw(y_train_synthetic)\n"
   ]
  },
  {
   "cell_type": "markdown",
   "metadata": {},
   "source": [
    "# Solución ^^^"
   ]
  },
  {
   "cell_type": "markdown",
   "metadata": {},
   "source": [
    "### Try giving ordered time"
   ]
  },
  {
   "cell_type": "code",
   "execution_count": 97,
   "metadata": {},
   "outputs": [],
   "source": [
    "y_train_ordered = np.sort(y_train, order=['Survival_in_days'])\n",
    "\n",
    "event, time = y_train_ordered['Status'], y_train_ordered['Survival_in_days']\n",
    "unique_time, p = kaplan_meier_estimator(event, time, reverse=True)\n",
    "\n",
    "idx2 = np.searchsorted(unique_time, time[event])\n",
    "Ghat2 = p[idx2]"
   ]
  },
  {
   "cell_type": "code",
   "execution_count": 105,
   "metadata": {},
   "outputs": [
    {
     "data": {
      "text/plain": [
       "5"
      ]
     },
     "execution_count": 105,
     "metadata": {},
     "output_type": "execute_result"
    }
   ],
   "source": [
    "np.sum(Ghat2 == 0)"
   ]
  },
  {
   "cell_type": "code",
   "execution_count": 104,
   "metadata": {},
   "outputs": [
    {
     "data": {
      "text/plain": [
       "5"
      ]
     },
     "execution_count": 104,
     "metadata": {},
     "output_type": "execute_result"
    }
   ],
   "source": [
    "np.sum(Ghat == 0)"
   ]
  },
  {
   "cell_type": "code",
   "execution_count": 99,
   "metadata": {},
   "outputs": [
    {
     "ename": "ValueError",
     "evalue": "censoring survival function is zero at one or more time points",
     "output_type": "error",
     "traceback": [
      "\u001b[0;31m---------------------------------------------------------------------------\u001b[0m",
      "\u001b[0;31mValueError\u001b[0m                                Traceback (most recent call last)",
      "\u001b[1;32m/Users/ravj/Documents/work/dd3/models/ds-liquidity/src/model/ipcw_cure.ipynb Cell 35\u001b[0m line \u001b[0;36m4\n\u001b[1;32m      <a href='vscode-notebook-cell:/Users/ravj/Documents/work/dd3/models/ds-liquidity/src/model/ipcw_cure.ipynb#Y132sZmlsZQ%3D%3D?line=1'>2</a>\u001b[0m cde \u001b[39m=\u001b[39m CensoringDistributionEstimator()\n\u001b[1;32m      <a href='vscode-notebook-cell:/Users/ravj/Documents/work/dd3/models/ds-liquidity/src/model/ipcw_cure.ipynb#Y132sZmlsZQ%3D%3D?line=2'>3</a>\u001b[0m cde\u001b[39m.\u001b[39mfit(y_train_ordered)\n\u001b[0;32m----> <a href='vscode-notebook-cell:/Users/ravj/Documents/work/dd3/models/ds-liquidity/src/model/ipcw_cure.ipynb#Y132sZmlsZQ%3D%3D?line=3'>4</a>\u001b[0m cde_train \u001b[39m=\u001b[39m cde\u001b[39m.\u001b[39;49mpredict_ipcw(y_train_ordered)\n",
      "File \u001b[0;32m~/opt/anaconda3/envs/dd3surv/lib/python3.9/site-packages/sksurv/nonparametric.py:583\u001b[0m, in \u001b[0;36mCensoringDistributionEstimator.predict_ipcw\u001b[0;34m(self, y)\u001b[0m\n\u001b[1;32m    580\u001b[0m Ghat \u001b[39m=\u001b[39m \u001b[39mself\u001b[39m\u001b[39m.\u001b[39mpredict_proba(time[event])\n\u001b[1;32m    582\u001b[0m \u001b[39mif\u001b[39;00m (Ghat \u001b[39m==\u001b[39m \u001b[39m0.0\u001b[39m)\u001b[39m.\u001b[39many():\n\u001b[0;32m--> 583\u001b[0m     \u001b[39mraise\u001b[39;00m \u001b[39mValueError\u001b[39;00m(\u001b[39m\"\u001b[39m\u001b[39mcensoring survival function is zero at one or more time points\u001b[39m\u001b[39m\"\u001b[39m)\n\u001b[1;32m    585\u001b[0m weights \u001b[39m=\u001b[39m np\u001b[39m.\u001b[39mzeros(time\u001b[39m.\u001b[39mshape[\u001b[39m0\u001b[39m])\n\u001b[1;32m    586\u001b[0m weights[event] \u001b[39m=\u001b[39m \u001b[39m1.0\u001b[39m \u001b[39m/\u001b[39m Ghat\n",
      "\u001b[0;31mValueError\u001b[0m: censoring survival function is zero at one or more time points"
     ]
    }
   ],
   "source": [
    "# censoring distribution\n",
    "cde = CensoringDistributionEstimator()\n",
    "cde.fit(y_train_ordered)\n",
    "cde_train = cde.predict_ipcw(y_train_ordered)"
   ]
  },
  {
   "cell_type": "code",
   "execution_count": 106,
   "metadata": {},
   "outputs": [
    {
     "data": {
      "text/plain": [
       "173"
      ]
     },
     "execution_count": 106,
     "metadata": {},
     "output_type": "execute_result"
    }
   ],
   "source": [
    "idx.max()"
   ]
  },
  {
   "cell_type": "code",
   "execution_count": null,
   "metadata": {},
   "outputs": [],
   "source": []
  },
  {
   "cell_type": "code",
   "execution_count": null,
   "metadata": {},
   "outputs": [],
   "source": []
  },
  {
   "cell_type": "code",
   "execution_count": null,
   "metadata": {},
   "outputs": [],
   "source": []
  },
  {
   "cell_type": "markdown",
   "metadata": {},
   "source": [
    "# IPC for \n",
    "\n",
    "Fit an accelerated IPC Ridge model to the training data"
   ]
  },
  {
   "cell_type": "code",
   "execution_count": 21,
   "metadata": {},
   "outputs": [],
   "source": [
    "from sksurv.datasets import load_breast_cancer\n",
    "\n",
    "X, y = load_breast_cancer()\n",
    "Xt = OneHotEncoder().fit_transform(X)\n",
    "\n",
    "X_train, X_test, y_train, y_test = train_test_split(Xt, y, test_size=0.25, random_state=0)"
   ]
  },
  {
   "cell_type": "code",
   "execution_count": null,
   "metadata": {},
   "outputs": [],
   "source": [
    "est_aft_ls = ComponentwiseGradientBoostingSurvivalAnalysis(\n",
    "    loss=\"ipcwls\", n_estimators=300, learning_rate=1.0, random_state=0\n",
    ").fit(X_train, y_train)\n",
    "cindex = est_aft_ls.score(X_test, y_test)\n",
    "print(round(cindex, 3))"
   ]
  },
  {
   "cell_type": "markdown",
   "metadata": {},
   "source": [
    "## Look Censoring"
   ]
  },
  {
   "cell_type": "code",
   "execution_count": 22,
   "metadata": {},
   "outputs": [],
   "source": [
    "# censoring distribution\n",
    "cde = CensoringDistributionEstimator()\n",
    "cde.fit(y_train)\n",
    "cde_train = cde.predict_ipcw(y_train)"
   ]
  },
  {
   "cell_type": "code",
   "execution_count": 24,
   "metadata": {},
   "outputs": [
    {
     "data": {
      "text/plain": [
       "array([( True, 1731.), (False, 5238.), (False, 5860.), ( True, 7185.),\n",
       "       ( True, 1171.), (False, 4675.), (False, 5035.), (False, 5651.),\n",
       "       (False, 5101.), (False, 4555.), (False, 6135.), (False, 3900.),\n",
       "       (False, 5693.), (False, 5551.), ( True, 1693.), (False, 4691.),\n",
       "       (False, 6295.), (False, 5612.), (False, 6132.), (False, 4672.),\n",
       "       (False, 4487.), (False, 4952.), (False, 6298.), (False, 4874.),\n",
       "       (False, 4866.), (False, 2647.), ( True,  690.), (False, 5571.),\n",
       "       (False, 5359.), (False, 2225.), (False, 1215.), (False, 5673.),\n",
       "       (False, 1920.), (False, 5316.), ( True,  524.), (False, 3555.),\n",
       "       (False, 5530.), (False, 1781.), (False, 5685.), ( True, 1136.),\n",
       "       (False, 4181.), ( True, 1721.), (False, 2879.), ( True, 1598.),\n",
       "       (False, 5779.), ( True,  289.), (False, 4681.), (False, 4568.),\n",
       "       (False, 5768.), ( True, 2454.), ( True,  421.), ( True,  723.),\n",
       "       (False, 2965.), ( True,  269.), (False, 4596.), (False, 5012.),\n",
       "       (False, 4052.), ( True,  528.), ( True,  803.), (False, 5678.),\n",
       "       (False, 5306.), (False, 3293.), ( True, 4066.), (False, 5714.),\n",
       "       (False, 2909.), ( True, 4618.), (False, 5678.), (False, 5823.),\n",
       "       ( True,  994.), (False, 1740.), ( True,  730.), ( True, 3121.),\n",
       "       (False, 4352.), ( True, 3976.), (False, 6255.), (False, 2549.),\n",
       "       (False, 2722.), (False, 6161.), (False, 5947.), ( True, 1815.),\n",
       "       (False, 3771.), (False, 4279.), ( True, 1742.), ( True, 4353.),\n",
       "       (False, 3614.), (False, 4603.), (False, 3914.), (False, 5984.),\n",
       "       (False, 5236.), (False, 3188.), ( True, 1206.), (False, 2809.),\n",
       "       (False, 4642.), (False, 6591.), (False, 5406.), (False, 6352.),\n",
       "       ( True,  796.), (False, 1591.), (False, 4980.), (False, 5181.),\n",
       "       ( True, 1743.), (False, 5359.), (False, 1703.), (False, 1104.),\n",
       "       (False, 5602.), (False, 6240.), (False, 4472.), (False, 5519.),\n",
       "       ( True,  394.), ( True,  125.), (False, 4652.), ( True, 3313.),\n",
       "       (False, 5683.), (False, 4297.), (False, 4227.), (False, 5909.),\n",
       "       (False, 6232.), (False, 5779.), (False, 5379.), (False, 4327.),\n",
       "       (False, 3544.), (False, 3608.), ( True, 6777.), (False, 5723.),\n",
       "       (False, 5137.), (False, 4830.), ( True, 4050.), (False, 5110.),\n",
       "       (False, 6003.), (False, 1554.), (False, 3782.), (False, 4744.),\n",
       "       (False, 2561.), (False, 5945.), (False, 3296.), ( True,  805.),\n",
       "       ( True,  649.), (False, 2105.), ( True, 4415.), (False, 7057.),\n",
       "       (False, 5785.), ( True, 1233.), (False, 2672.), (False, 4863.),\n",
       "       (False, 7023.), (False, 4085.), (False, 3779.), (False, 3855.)],\n",
       "      dtype=[('e.tdm', '?'), ('t.tdm', '<f8')])"
      ]
     },
     "execution_count": 24,
     "metadata": {},
     "output_type": "execute_result"
    }
   ],
   "source": [
    "y_train"
   ]
  },
  {
   "cell_type": "code",
   "execution_count": 25,
   "metadata": {},
   "outputs": [
    {
     "data": {
      "text/plain": [
       "[<matplotlib.lines.Line2D at 0x7f7ab1b76880>]"
      ]
     },
     "execution_count": 25,
     "metadata": {},
     "output_type": "execute_result"
    },
    {
     "data": {
      "image/png": "[encoded data removed]",
      "text/plain": [
       "<Figure size 640x480 with 1 Axes>"
      ]
     },
     "metadata": {},
     "output_type": "display_data"
    }
   ],
   "source": [
    "# get censoring survival function\n",
    "km = kaplan_meier_estimator(y_train['e.tdm'], y_train['t.tdm'], reverse=True)\n",
    "\n",
    "# plot censoring survival function\n",
    "plt.step(km[0], km[1], where=\"post\")"
   ]
  },
  {
   "cell_type": "code",
   "execution_count": 27,
   "metadata": {},
   "outputs": [
    {
     "data": {
      "text/plain": [
       "0.012182263427546974"
      ]
     },
     "execution_count": 27,
     "metadata": {},
     "output_type": "execute_result"
    }
   ],
   "source": [
    "km[1][-1]"
   ]
  },
  {
   "cell_type": "code",
   "execution_count": 28,
   "metadata": {},
   "outputs": [
    {
     "data": {
      "text/plain": [
       "(True, 7185.)"
      ]
     },
     "execution_count": 28,
     "metadata": {},
     "output_type": "execute_result"
    }
   ],
   "source": [
    "## look last time in train\n",
    "imax = np.argmax(y_train['t.tdm'])\n",
    "y_train[imax]"
   ]
  },
  {
   "cell_type": "code",
   "execution_count": 34,
   "metadata": {},
   "outputs": [
    {
     "data": {
      "text/plain": [
       "array([(False, 6591.), ( True, 6777.), (False, 7023.), (False, 7057.),\n",
       "       ( True, 7185.)], dtype=[('e.tdm', '?'), ('t.tdm', '<f8')])"
      ]
     },
     "execution_count": 34,
     "metadata": {},
     "output_type": "execute_result"
    }
   ],
   "source": [
    "# sort train by time\n",
    "y_train_aux = np.sort(y_train, order=['t.tdm'], axis=0)\n",
    "y_train_aux[-5:]"
   ]
  },
  {
   "cell_type": "code",
   "execution_count": 35,
   "metadata": {},
   "outputs": [
    {
     "data": {
      "text/plain": [
       "[<matplotlib.lines.Line2D at 0x7f7aa0c0a820>]"
      ]
     },
     "execution_count": 35,
     "metadata": {},
     "output_type": "execute_result"
    },
    {
     "data": {
      "image/png": "[encoded data removed]",
      "text/plain": [
       "<Figure size 640x480 with 1 Axes>"
      ]
     },
     "metadata": {},
     "output_type": "display_data"
    }
   ],
   "source": [
    "# plot kaplan meier\n",
    "km = kaplan_meier_estimator(y_train['e.tdm'], y_train['t.tdm'], reverse=False)\n",
    "plt.step(km[0], km[1], where=\"post\")"
   ]
  },
  {
   "cell_type": "markdown",
   "metadata": {},
   "source": [
    "### Modify the censoring distribution"
   ]
  },
  {
   "cell_type": "code",
   "execution_count": 43,
   "metadata": {},
   "outputs": [
    {
     "data": {
      "text/plain": [
       "[<matplotlib.lines.Line2D at 0x7f7aa0c25070>]"
      ]
     },
     "execution_count": 43,
     "metadata": {},
     "output_type": "execute_result"
    },
    {
     "data": {
      "image/png": "[encoded data removed]",
      "text/plain": [
       "<Figure size 640x480 with 1 Axes>"
      ]
     },
     "metadata": {},
     "output_type": "display_data"
    }
   ],
   "source": [
    "# get rid of the last time\n",
    "y_train_aux = np.sort(y_train, order=['t.tdm'], axis=0)[:-1]\n",
    "\n",
    "# get censoring survival function\n",
    "km = kaplan_meier_estimator(y_train_aux['e.tdm'], y_train_aux['t.tdm'], reverse=True)\n",
    "\n",
    "# plot censoring survival function\n",
    "plt.step(km[0], km[1], where=\"post\")"
   ]
  },
  {
   "cell_type": "code",
   "execution_count": 41,
   "metadata": {},
   "outputs": [
    {
     "data": {
      "text/plain": [
       "(False, 7057.)"
      ]
     },
     "execution_count": 41,
     "metadata": {},
     "output_type": "execute_result"
    }
   ],
   "source": [
    "# look last time in train\n",
    "imax = np.argmax(y_train_aux['t.tdm'])\n",
    "y_train_aux[imax]"
   ]
  },
  {
   "cell_type": "code",
   "execution_count": 42,
   "metadata": {},
   "outputs": [
    {
     "data": {
      "text/plain": [
       "0.0"
      ]
     },
     "execution_count": 42,
     "metadata": {},
     "output_type": "execute_result"
    }
   ],
   "source": [
    "km[1][-1]"
   ]
  },
  {
   "cell_type": "markdown",
   "metadata": {},
   "source": [
    "### Look if the new censoring distribution creates problems"
   ]
  },
  {
   "cell_type": "code",
   "execution_count": 44,
   "metadata": {},
   "outputs": [],
   "source": [
    "# censoring distribution\n",
    "cde = CensoringDistributionEstimator()\n",
    "cde.fit(y_train_aux)\n",
    "cde_train = cde.predict_ipcw(y_train_aux)"
   ]
  },
  {
   "cell_type": "code",
   "execution_count": 47,
   "metadata": {},
   "outputs": [
    {
     "data": {
      "text/plain": [
       "array([( True,  125.), ( True,  269.), ( True,  289.), ( True,  394.),\n",
       "       ( True,  421.), ( True,  524.), ( True,  528.), ( True,  649.),\n",
       "       ( True,  690.), ( True,  723.), ( True,  730.), ( True,  796.),\n",
       "       ( True,  803.), ( True,  805.), ( True,  994.), (False, 1104.),\n",
       "       ( True, 1136.), ( True, 1171.), ( True, 1206.), (False, 1215.),\n",
       "       ( True, 1233.), (False, 1554.), (False, 1591.), ( True, 1598.),\n",
       "       ( True, 1693.), (False, 1703.), ( True, 1721.), ( True, 1731.),\n",
       "       (False, 1740.), ( True, 1742.), ( True, 1743.), (False, 1781.),\n",
       "       ( True, 1815.), (False, 1920.), (False, 2105.), (False, 2225.),\n",
       "       ( True, 2454.), (False, 2549.), (False, 2561.), (False, 2647.),\n",
       "       (False, 2672.), (False, 2722.), (False, 2809.), (False, 2879.),\n",
       "       (False, 2909.), (False, 2965.), ( True, 3121.), (False, 3188.),\n",
       "       (False, 3293.), (False, 3296.), ( True, 3313.), (False, 3544.),\n",
       "       (False, 3555.), (False, 3608.), (False, 3614.), (False, 3771.),\n",
       "       (False, 3779.), (False, 3782.), (False, 3855.), (False, 3900.),\n",
       "       (False, 3914.), ( True, 3976.), ( True, 4050.), (False, 4052.),\n",
       "       ( True, 4066.), (False, 4085.), (False, 4181.), (False, 4227.),\n",
       "       (False, 4279.), (False, 4297.), (False, 4327.), (False, 4352.),\n",
       "       ( True, 4353.), ( True, 4415.), (False, 4472.), (False, 4487.),\n",
       "       (False, 4555.), (False, 4568.), (False, 4596.), (False, 4603.),\n",
       "       ( True, 4618.), (False, 4642.), (False, 4652.), (False, 4672.),\n",
       "       (False, 4675.), (False, 4681.), (False, 4691.), (False, 4744.),\n",
       "       (False, 4830.), (False, 4863.), (False, 4866.), (False, 4874.),\n",
       "       (False, 4952.), (False, 4980.), (False, 5012.), (False, 5035.),\n",
       "       (False, 5101.), (False, 5110.), (False, 5137.), (False, 5181.),\n",
       "       (False, 5236.), (False, 5238.), (False, 5306.), (False, 5316.),\n",
       "       (False, 5359.), (False, 5359.), (False, 5379.), (False, 5406.),\n",
       "       (False, 5519.), (False, 5530.), (False, 5551.), (False, 5571.),\n",
       "       (False, 5602.), (False, 5612.), (False, 5651.), (False, 5673.),\n",
       "       (False, 5678.), (False, 5678.), (False, 5683.), (False, 5685.),\n",
       "       (False, 5693.), (False, 5714.), (False, 5723.), (False, 5768.),\n",
       "       (False, 5779.), (False, 5779.), (False, 5785.), (False, 5823.),\n",
       "       (False, 5860.), (False, 5909.), (False, 5945.), (False, 5947.),\n",
       "       (False, 5984.), (False, 6003.), (False, 6132.), (False, 6135.),\n",
       "       (False, 6161.), (False, 6232.), (False, 6240.), (False, 6255.),\n",
       "       (False, 6295.), (False, 6298.), (False, 6352.), (False, 6591.),\n",
       "       ( True, 6777.), (False, 7023.), (False, 7057.)],\n",
       "      dtype=[('e.tdm', '?'), ('t.tdm', '<f8')])"
      ]
     },
     "execution_count": 47,
     "metadata": {},
     "output_type": "execute_result"
    }
   ],
   "source": [
    "y_train_aux"
   ]
  },
  {
   "cell_type": "markdown",
   "metadata": {},
   "source": [
    "## Look it by hand\n"
   ]
  },
  {
   "cell_type": "code",
   "execution_count": 59,
   "metadata": {},
   "outputs": [],
   "source": [
    "event, time = y_train_aux['e.tdm'], y_train_aux['t.tdm']\n",
    "unique_time, p = kaplan_meier_estimator(event, time, reverse=True)\n",
    "\n",
    "idx = np.searchsorted(unique_time, time[event])\n",
    "Ghat = p[idx]"
   ]
  },
  {
   "cell_type": "code",
   "execution_count": 64,
   "metadata": {},
   "outputs": [
    {
     "name": "stdout",
     "output_type": "stream",
     "text": [
      "[ 125.  269.  289.  394.  421.  524.  528.  649.  690.  723.  730.  796.\n",
      "  803.  805.  994. 1104. 1136. 1171. 1206. 1215. 1233. 1554. 1591. 1598.\n",
      " 1693. 1703. 1721. 1731. 1740. 1742. 1743. 1781. 1815. 1920. 2105. 2225.\n",
      " 2454. 2549. 2561. 2647. 2672. 2722. 2809. 2879. 2909. 2965. 3121. 3188.\n",
      " 3293. 3296. 3313. 3544. 3555. 3608. 3614. 3771. 3779. 3782. 3855. 3900.\n",
      " 3914. 3976. 4050. 4052. 4066. 4085. 4181. 4227. 4279. 4297. 4327. 4352.\n",
      " 4353. 4415. 4472. 4487. 4555. 4568. 4596. 4603. 4618. 4642. 4652. 4672.\n",
      " 4675. 4681. 4691. 4744. 4830. 4863. 4866. 4874. 4952. 4980. 5012. 5035.\n",
      " 5101. 5110. 5137. 5181. 5236. 5238. 5306. 5316. 5359. 5379. 5406. 5519.\n",
      " 5530. 5551. 5571. 5602. 5612. 5651. 5673. 5678. 5683. 5685. 5693. 5714.\n",
      " 5723. 5768. 5779. 5785. 5823. 5860. 5909. 5945. 5947. 5984. 6003. 6132.\n",
      " 6135. 6161. 6232. 6240. 6255. 6295. 6298. 6352. 6591. 6777. 7023. 7057.]\n",
      "[1.         1.         1.         1.         1.         1.\n",
      " 1.         1.         1.         1.         1.         1.\n",
      " 1.         1.         1.         0.99242424 0.99242424 0.99242424\n",
      " 0.99242424 0.98467093 0.98467093 0.97685608 0.96904123 0.96904123\n",
      " 0.96904123 0.96109827 0.96109827 0.96109827 0.95302181 0.95302181\n",
      " 0.95302181 0.94480611 0.94480611 0.93651834 0.92823056 0.91994279\n",
      " 0.91994279 0.91157967 0.90321656 0.89485344 0.88649032 0.87812721\n",
      " 0.86976409 0.86140098 0.85303786 0.84467474 0.84467474 0.836228\n",
      " 0.82778125 0.8193345  0.8193345  0.81079977 0.80226503 0.7937303\n",
      " 0.78519556 0.77666083 0.76812609 0.75959136 0.75105663 0.74252189\n",
      " 0.73398716 0.73398716 0.73398716 0.72524921 0.72524921 0.71640471\n",
      " 0.70756021 0.69871571 0.6898712  0.6810267  0.6721822  0.6633377\n",
      " 0.6633377  0.6633377  0.65425088 0.64516406 0.63607724 0.62699043\n",
      " 0.61790361 0.60881679 0.60881679 0.59959229 0.5903678  0.5811433\n",
      " 0.5719188  0.56269431 0.55346981 0.54424531 0.53502082 0.52579632\n",
      " 0.51657182 0.50734732 0.49812283 0.48889833 0.47967383 0.47044934\n",
      " 0.46122484 0.45200034 0.44277585 0.43355135 0.42432685 0.41510236\n",
      " 0.40587786 0.39665336 0.37820437 0.36897987 0.35975538 0.35053088\n",
      " 0.34130638 0.33208189 0.32285739 0.31363289 0.30440839 0.2951839\n",
      " 0.2859594  0.26751041 0.25828591 0.24906141 0.23983692 0.23061242\n",
      " 0.22138792 0.21216343 0.19371443 0.18448994 0.17526544 0.16604094\n",
      " 0.15681645 0.14759195 0.13836745 0.12914296 0.11991846 0.11069396\n",
      " 0.10146946 0.09224497 0.08302047 0.07379597 0.06457148 0.05534698\n",
      " 0.04612248 0.03689799 0.02767349 0.02767349 0.01383675 0.        ]\n"
     ]
    }
   ],
   "source": [
    "# look unique time & p\n",
    "print(unique_time)\n",
    "print(p)"
   ]
  },
  {
   "cell_type": "code",
   "execution_count": 66,
   "metadata": {},
   "outputs": [
    {
     "name": "stdout",
     "output_type": "stream",
     "text": [
      "144\n"
     ]
    }
   ],
   "source": [
    "# look size of p\n",
    "print(len(p))"
   ]
  },
  {
   "cell_type": "code",
   "execution_count": 68,
   "metadata": {},
   "outputs": [
    {
     "name": "stdout",
     "output_type": "stream",
     "text": [
      "36\n",
      "[  0   1   2   3   4   5   6   7   8   9  10  11  12  13  14  16  17  18\n",
      "  20  23  24  26  27  29  30  32  36  46  50  61  62  64  72  73  80 141]\n"
     ]
    }
   ],
   "source": [
    "# look idx\n",
    "print(len(idx))\n",
    "print(idx)"
   ]
  },
  {
   "cell_type": "code",
   "execution_count": 70,
   "metadata": {},
   "outputs": [
    {
     "name": "stdout",
     "output_type": "stream",
     "text": [
      "[ 125.  269.  289.  394.  421.  524.  528.  649.  690.  723.  730.  796.\n",
      "  803.  805.  994. 1104. 1136. 1171. 1206. 1215. 1233. 1554. 1591. 1598.\n",
      " 1693. 1703. 1721. 1731. 1740. 1742. 1743. 1781. 1815. 1920. 2105. 2225.\n",
      " 2454. 2549. 2561. 2647. 2672. 2722. 2809. 2879. 2909. 2965. 3121. 3188.\n",
      " 3293. 3296. 3313. 3544. 3555. 3608. 3614. 3771. 3779. 3782. 3855. 3900.\n",
      " 3914. 3976. 4050. 4052. 4066. 4085. 4181. 4227. 4279. 4297. 4327. 4352.\n",
      " 4353. 4415. 4472. 4487. 4555. 4568. 4596. 4603. 4618. 4642. 4652. 4672.\n",
      " 4675. 4681. 4691. 4744. 4830. 4863. 4866. 4874. 4952. 4980. 5012. 5035.\n",
      " 5101. 5110. 5137. 5181. 5236. 5238. 5306. 5316. 5359. 5379. 5406. 5519.\n",
      " 5530. 5551. 5571. 5602. 5612. 5651. 5673. 5678. 5683. 5685. 5693. 5714.\n",
      " 5723. 5768. 5779. 5785. 5823. 5860. 5909. 5945. 5947. 5984. 6003. 6132.\n",
      " 6135. 6161. 6232. 6240. 6255. 6295. 6298. 6352. 6591. 6777. 7023. 7057.]\n",
      "\n",
      "\n",
      "[ 125.  269.  289.  394.  421.  524.  528.  649.  690.  723.  730.  796.\n",
      "  803.  805.  994. 1136. 1171. 1206. 1233. 1598. 1693. 1721. 1731. 1742.\n",
      " 1743. 1815. 2454. 3121. 3313. 3976. 4050. 4066. 4353. 4415. 4618. 6777.]\n"
     ]
    }
   ],
   "source": [
    "# look unique time vs time[event]\n",
    "print(unique_time)\n",
    "print(\"\\n\")\n",
    "print(time[event])"
   ]
  },
  {
   "cell_type": "code",
   "execution_count": 71,
   "metadata": {},
   "outputs": [
    {
     "name": "stdout",
     "output_type": "stream",
     "text": [
      "[1.         1.         1.         1.         1.         1.\n",
      " 1.         1.         1.         1.         1.         1.\n",
      " 1.         1.         1.         0.99242424 0.99242424 0.99242424\n",
      " 0.98467093 0.96904123 0.96904123 0.96109827 0.96109827 0.95302181\n",
      " 0.95302181 0.94480611 0.91994279 0.84467474 0.8193345  0.73398716\n",
      " 0.73398716 0.72524921 0.6633377  0.6633377  0.60881679 0.02767349]\n"
     ]
    }
   ],
   "source": [
    "# look ghat\n",
    "print(Ghat)"
   ]
  },
  {
   "cell_type": "code",
   "execution_count": 72,
   "metadata": {},
   "outputs": [
    {
     "name": "stdout",
     "output_type": "stream",
     "text": [
      "[ 125.  269.  289.  394.  421.  524.  528.  649.  690.  723.  730.  796.\n",
      "  803.  805.  994. 1136. 1171. 1206. 1233. 1598. 1693. 1721. 1731. 1742.\n",
      " 1743. 1815. 2454. 3121. 3313. 3976. 4050. 4066. 4353. 4415. 4618. 6298.]\n"
     ]
    }
   ],
   "source": [
    "# look which times\n",
    "print(time[idx])"
   ]
  },
  {
   "cell_type": "code",
   "execution_count": 74,
   "metadata": {},
   "outputs": [
    {
     "name": "stdout",
     "output_type": "stream",
     "text": [
      "[(False, 6352.) (False, 6591.) ( True, 6777.) (False, 7023.)\n",
      " (False, 7057.)]\n"
     ]
    }
   ],
   "source": [
    "# print times greater than 6298\n",
    "print(y_train_aux[y_train_aux['t.tdm'] > 6298])"
   ]
  },
  {
   "cell_type": "code",
   "execution_count": null,
   "metadata": {},
   "outputs": [],
   "source": []
  },
  {
   "cell_type": "code",
   "execution_count": null,
   "metadata": {},
   "outputs": [],
   "source": []
  }
 ],
 "metadata": {
  "kernelspec": {
   "display_name": "dd3surv",
   "language": "python",
   "name": "python3"
  },
  "language_info": {
   "codemirror_mode": {
    "name": "ipython",
    "version": 3
   },
   "file_extension": ".py",
   "mimetype": "text/x-python",
   "name": "python",
   "nbconvert_exporter": "python",
   "pygments_lexer": "ipython3",
   "version": "3.9.18"
  }
 },
 "nbformat": 4,
 "nbformat_minor": 2
}
