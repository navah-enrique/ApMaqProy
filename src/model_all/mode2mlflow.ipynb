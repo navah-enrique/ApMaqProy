{
 "cells": [
  {
   "cell_type": "markdown",
   "metadata": {},
   "source": [
    "# Upload Survival Model to MLflow\n",
    "\n",
    "@roman_avj\n",
    "\n",
    "7 nov 2023\n"
   ]
  },
  {
   "cell_type": "code",
   "execution_count": 2,
   "metadata": {},
   "outputs": [],
   "source": [
    "# libraries\n",
    "import pandas as pd\n",
    "import numpy as np\n",
    "import matplotlib.pyplot as plt\n",
    "import seaborn as sns\n",
    "import os\n",
    "import sys\n",
    "import boto3\n",
    "import sqlalchemy\n",
    "import mlflow\n",
    "import cloudpickle\n",
    "\n",
    "\n",
    "from sksurv.preprocessing import OneHotEncoder\n",
    "from sklearn.preprocessing import StandardScaler\n",
    "from sklearn.preprocessing import PowerTransformer\n",
    "from sklearn.model_selection import train_test_split, GridSearchCV, KFold\n",
    "from skopt import BayesSearchCV\n",
    "from skopt.space import Real, Categorical, Integer\n",
    "from sklearn.model_selection import cross_val_score\n",
    "from sklearn.metrics import make_scorer\n",
    "from sklearn.model_selection import StratifiedKFold\n",
    "\n",
    "from xgbse import XGBSEStackedWeibull\n",
    "from xgbse.extrapolation import extrapolate_constant_risk\n",
    "import lifelines\n",
    "\n",
    "from scipy.integrate import simpson\n",
    "from scipy.optimize import brentq\n",
    "\n",
    "import geopandas as gpd\n",
    "import folium\n",
    "\n",
    "from sksurv.metrics import (\n",
    "    concordance_index_censored,\n",
    "    concordance_index_ipcw,\n",
    "    cumulative_dynamic_auc,\n",
    "    integrated_brier_score,\n",
    ")\n",
    "from xgbse.metrics import (\n",
    "    approx_brier_score,\n",
    "    dist_calibration_score,\n",
    "    concordance_index\n",
    ")"
   ]
  },
  {
   "cell_type": "markdown",
   "metadata": {},
   "source": [
    "# Data"
   ]
  },
  {
   "cell_type": "markdown",
   "metadata": {},
   "source": [
    "## Read & Clean"
   ]
  },
  {
   "cell_type": "code",
   "execution_count": 3,
   "metadata": {},
   "outputs": [
    {
     "name": "stdout",
     "output_type": "stream",
     "text": [
      "[FATAL] 2023-11-10 18:18:23.145 Aws::Config::ConfigFileProfileFSM [0x202632280] Unknown parser error: unexpected state 4\n",
      "<class 'pandas.core.frame.DataFrame'>\n",
      "RangeIndex: 73938 entries, 0 to 73937\n",
      "Columns: 141 entries, id to cosine_tmonth\n",
      "dtypes: datetime64[us](2), float64(122), int32(1), int64(4), object(9), string(3)\n",
      "memory usage: 79.3+ MB\n"
     ]
    }
   ],
   "source": [
    "# read\n",
    "df_model = pd.read_parquet('../../data/data2analyze_clean_v2.parquet')\n",
    "df_model.info()\n",
    "\n",
    "# add if has maintenance\n",
    "df_model['has_maintenance'] = df_model['cost_of_maintenance'].apply(lambda x: 1 if x > 0 else 0)\n",
    "\n",
    "# clip columns with 'lag' up to 99 percentile\n",
    "vars_lag = df_model.columns[df_model.columns.str.contains('lag')]\n",
    "df_model[vars_lag] = df_model[vars_lag].clip(upper=df_model[vars_lag].quantile(0.99), axis=1)\n",
    "\n",
    "# look rows with maximum time2event\n",
    "df_max = df_model[df_model['time2event'] == df_model['time2event'].max()]"
   ]
  },
  {
   "cell_type": "markdown",
   "metadata": {},
   "source": [
    "## Transformations"
   ]
  },
  {
   "cell_type": "code",
   "execution_count": 27,
   "metadata": {},
   "outputs": [
    {
     "name": "stdout",
     "output_type": "stream",
     "text": [
      "['listing_type', 'property_type', 'first_price', 'diff_first_prediction', 'prediction_price_per_square_meter', 'surface_total', 'page_on_marketplace', 'is_new_property_prob', 'total_cost_of_living', 'days_active', 'relative_cost_of_living', 'is_exterior', 'has_gym', 'pets_allowed', 'has_maintenance', 'num_bedrooms', 'latitude', 'longitude', 'woe_marketplace', 'woe_seller', 'woe_id_sepomex', 'sine_tmonth', 'cosine_tmonth']\n"
     ]
    }
   ],
   "source": [
    "print(vars_x_names)"
   ]
  },
  {
   "cell_type": "code",
   "execution_count": 4,
   "metadata": {},
   "outputs": [
    {
     "name": "stdout",
     "output_type": "stream",
     "text": [
      "<class 'pandas.core.frame.DataFrame'>\n",
      "RangeIndex: 73938 entries, 0 to 73937\n",
      "Data columns (total 23 columns):\n",
      " #   Column                             Non-Null Count  Dtype   \n",
      "---  ------                             --------------  -----   \n",
      " 0   listing_type                       73938 non-null  category\n",
      " 1   property_type                      73938 non-null  category\n",
      " 2   first_price                        73938 non-null  float64 \n",
      " 3   diff_first_prediction              73938 non-null  float64 \n",
      " 4   prediction_price_per_square_meter  73938 non-null  float64 \n",
      " 5   surface_total                      73938 non-null  float64 \n",
      " 6   page_on_marketplace                73938 non-null  float64 \n",
      " 7   is_new_property_prob               73938 non-null  float64 \n",
      " 8   total_cost_of_living               73938 non-null  float64 \n",
      " 9   days_active                        73938 non-null  float64 \n",
      " 10  relative_cost_of_living            73938 non-null  float64 \n",
      " 11  is_exterior                        73938 non-null  int8    \n",
      " 12  has_gym                            73938 non-null  int8    \n",
      " 13  pets_allowed                       73938 non-null  int8    \n",
      " 14  has_maintenance                    73938 non-null  int8    \n",
      " 15  num_bedrooms                       73938 non-null  float64 \n",
      " 16  latitude                           73938 non-null  float64 \n",
      " 17  longitude                          73938 non-null  float64 \n",
      " 18  woe_marketplace                    73938 non-null  float64 \n",
      " 19  woe_seller                         73938 non-null  float64 \n",
      " 20  woe_id_sepomex                     73938 non-null  float64 \n",
      " 21  sine_tmonth                        73938 non-null  float64 \n",
      " 22  cosine_tmonth                      73938 non-null  float64 \n",
      "dtypes: category(2), float64(17), int8(4)\n",
      "memory usage: 10.0 MB\n"
     ]
    }
   ],
   "source": [
    "# select columns\n",
    "vars_x_categorical = ['listing_type', 'property_type']\n",
    "vars_x_discrete = ['num_bedrooms']\n",
    "vars_x_woe = ['woe_marketplace', 'woe_seller', 'woe_id_sepomex']\n",
    "vars_x_numerical = [\n",
    "    'first_price', 'diff_first_prediction', \n",
    "    'prediction_price_per_square_meter',\n",
    "    'surface_total', 'page_on_marketplace',\n",
    "    'is_new_property_prob', 'total_cost_of_living', 'days_active', 'relative_cost_of_living']\n",
    "vars_x_binary = ['is_exterior', 'has_gym', 'pets_allowed', 'has_maintenance']\n",
    "vars_x_geographic = ['latitude', 'longitude']\n",
    "vars_x_time = ['sine_tmonth', 'cosine_tmonth']\n",
    "\n",
    "vars_x_names = vars_x_categorical + vars_x_numerical + vars_x_binary + vars_x_discrete + vars_x_geographic + vars_x_woe + vars_x_time\n",
    "vars_x_names_id = vars_x_names\n",
    "\n",
    "# get y data as sksurv need\n",
    "data_y = np.array(\n",
    "    list(zip(df_model['event'], df_model['time2event'])),\n",
    "    dtype=[('Status', '?'), ('Survival_in_days', '<f8')]\n",
    ")\n",
    "\n",
    "# get x data\n",
    "data_x = (\n",
    "    df_model.copy()\n",
    "    .astype({col: 'category' for col in vars_x_categorical})\n",
    "    .astype({col: np.float64 for col in vars_x_numerical + vars_x_discrete + vars_x_binary + vars_x_geographic + vars_x_woe + vars_x_time})\n",
    "    .astype({col: np.int8 for col in vars_x_binary})\n",
    "    [vars_x_names]\n",
    ")\n",
    "data_x.info()"
   ]
  },
  {
   "cell_type": "code",
   "execution_count": 5,
   "metadata": {},
   "outputs": [
    {
     "data": {
      "text/plain": [
       "listing_type                             for-rent\n",
       "property_type                           apartment\n",
       "first_price                                8900.0\n",
       "diff_first_prediction                   -0.097642\n",
       "prediction_price_per_square_meter      142.942667\n",
       "surface_total                                69.0\n",
       "page_on_marketplace                           2.0\n",
       "is_new_property_prob                       0.5044\n",
       "total_cost_of_living                 25043.204753\n",
       "days_active                             24.530747\n",
       "relative_cost_of_living                178.435238\n",
       "is_exterior                                     0\n",
       "has_gym                                         0\n",
       "pets_allowed                                    1\n",
       "has_maintenance                                 0\n",
       "num_bedrooms                                  2.0\n",
       "latitude                                19.478474\n",
       "longitude                              -99.210293\n",
       "woe_marketplace                          0.290533\n",
       "woe_seller                               0.068438\n",
       "woe_id_sepomex                           0.931353\n",
       "sine_tmonth                                   0.0\n",
       "cosine_tmonth                                -1.0\n",
       "Name: 0, dtype: object"
      ]
     },
     "execution_count": 5,
     "metadata": {},
     "output_type": "execute_result"
    }
   ],
   "source": [
    "data_x.loc[0]"
   ]
  },
  {
   "cell_type": "code",
   "execution_count": 6,
   "metadata": {},
   "outputs": [
    {
     "data": {
      "text/plain": [
       "['first_price',\n",
       " 'diff_first_prediction',\n",
       " 'prediction_price_per_square_meter',\n",
       " 'surface_total',\n",
       " 'page_on_marketplace',\n",
       " 'is_new_property_prob',\n",
       " 'total_cost_of_living',\n",
       " 'days_active',\n",
       " 'relative_cost_of_living']"
      ]
     },
     "execution_count": 6,
     "metadata": {},
     "output_type": "execute_result"
    }
   ],
   "source": [
    "vars_x_numerical"
   ]
  },
  {
   "cell_type": "code",
   "execution_count": 7,
   "metadata": {},
   "outputs": [],
   "source": [
    "# one hot encoding\n",
    "data_x_numeric = OneHotEncoder().fit_transform(data_x)\n",
    "\n",
    "colnames_x_numeric = data_x_numeric.columns\n",
    "data_x_numeric = data_x_numeric.to_numpy()\n",
    "\n",
    "# boxcox\n",
    "location_cols_boxcox = [colnames_x_numeric.get_loc(col) for col in vars_x_numerical]\n",
    "\n",
    "data_x_numeric_aux_boxcox = data_x_numeric[:, location_cols_boxcox]\n",
    "power_transform = PowerTransformer(method='yeo-johnson', standardize=True).fit(data_x_numeric_aux_boxcox)\n",
    "data_x_numeric_aux_boxcox = power_transform.transform(data_x_numeric_aux_boxcox)\n",
    "data_x_numeric[:,location_cols_boxcox] = data_x_numeric_aux_boxcox\n",
    "\n",
    "# scale\n",
    "location_cols_scale = [colnames_x_numeric.get_loc(col) for col in vars_x_discrete + vars_x_geographic]\n",
    "data_x_numeric_aux_scale = data_x_numeric[:, location_cols_scale]\n",
    "standard_scaler = StandardScaler().fit(data_x_numeric_aux_scale)\n",
    "data_x_numeric_aux_scale = standard_scaler.transform(data_x_numeric_aux_scale)\n",
    "data_x_numeric[:,location_cols_scale] = data_x_numeric_aux_scale"
   ]
  },
  {
   "cell_type": "code",
   "execution_count": 8,
   "metadata": {},
   "outputs": [
    {
     "data": {
      "text/plain": [
       "Index(['listing_type=for-sale', 'property_type=house', 'first_price',\n",
       "       'diff_first_prediction', 'prediction_price_per_square_meter',\n",
       "       'surface_total', 'page_on_marketplace', 'is_new_property_prob',\n",
       "       'total_cost_of_living', 'days_active', 'relative_cost_of_living',\n",
       "       'is_exterior', 'has_gym', 'pets_allowed', 'has_maintenance',\n",
       "       'num_bedrooms', 'latitude', 'longitude', 'woe_marketplace',\n",
       "       'woe_seller', 'woe_id_sepomex', 'sine_tmonth', 'cosine_tmonth'],\n",
       "      dtype='object')"
      ]
     },
     "execution_count": 8,
     "metadata": {},
     "output_type": "execute_result"
    }
   ],
   "source": [
    "colnames_x_numeric"
   ]
  },
  {
   "cell_type": "markdown",
   "metadata": {},
   "source": [
    "## Check Box Cox Inverse"
   ]
  },
  {
   "cell_type": "code",
   "execution_count": 9,
   "metadata": {},
   "outputs": [
    {
     "data": {
      "text/html": [
       "<div>\n",
       "<style scoped>\n",
       "    .dataframe tbody tr th:only-of-type {\n",
       "        vertical-align: middle;\n",
       "    }\n",
       "\n",
       "    .dataframe tbody tr th {\n",
       "        vertical-align: top;\n",
       "    }\n",
       "\n",
       "    .dataframe thead th {\n",
       "        text-align: right;\n",
       "    }\n",
       "</style>\n",
       "<table border=\"1\" class=\"dataframe\">\n",
       "  <thead>\n",
       "    <tr style=\"text-align: right;\">\n",
       "      <th></th>\n",
       "      <th>first_price</th>\n",
       "      <th>diff_first_prediction</th>\n",
       "      <th>prediction_price_per_square_meter</th>\n",
       "      <th>surface_total</th>\n",
       "      <th>page_on_marketplace</th>\n",
       "      <th>is_new_property_prob</th>\n",
       "      <th>total_cost_of_living</th>\n",
       "      <th>days_active</th>\n",
       "      <th>relative_cost_of_living</th>\n",
       "    </tr>\n",
       "  </thead>\n",
       "  <tbody>\n",
       "    <tr>\n",
       "      <th>count</th>\n",
       "      <td>7.393800e+04</td>\n",
       "      <td>7.393800e+04</td>\n",
       "      <td>7.393800e+04</td>\n",
       "      <td>7.393800e+04</td>\n",
       "      <td>7.393800e+04</td>\n",
       "      <td>7.393800e+04</td>\n",
       "      <td>7.393800e+04</td>\n",
       "      <td>7.393800e+04</td>\n",
       "      <td>7.393800e+04</td>\n",
       "    </tr>\n",
       "    <tr>\n",
       "      <th>mean</th>\n",
       "      <td>-7.297361e-10</td>\n",
       "      <td>-4.046703e-18</td>\n",
       "      <td>1.125902e-11</td>\n",
       "      <td>4.403884e-14</td>\n",
       "      <td>2.671160e-15</td>\n",
       "      <td>-1.223367e-17</td>\n",
       "      <td>-1.965533e-11</td>\n",
       "      <td>1.085877e-14</td>\n",
       "      <td>-2.693716e-14</td>\n",
       "    </tr>\n",
       "    <tr>\n",
       "      <th>std</th>\n",
       "      <td>3.513664e-09</td>\n",
       "      <td>7.437877e-16</td>\n",
       "      <td>1.373339e-11</td>\n",
       "      <td>5.240604e-13</td>\n",
       "      <td>1.392541e-13</td>\n",
       "      <td>9.654644e-17</td>\n",
       "      <td>1.038077e-10</td>\n",
       "      <td>1.144680e-14</td>\n",
       "      <td>3.594257e-13</td>\n",
       "    </tr>\n",
       "    <tr>\n",
       "      <th>min</th>\n",
       "      <td>-2.421439e-08</td>\n",
       "      <td>-5.329071e-15</td>\n",
       "      <td>-2.910383e-11</td>\n",
       "      <td>-9.777068e-12</td>\n",
       "      <td>-1.864464e-11</td>\n",
       "      <td>-3.330669e-16</td>\n",
       "      <td>-7.130438e-10</td>\n",
       "      <td>-1.065814e-14</td>\n",
       "      <td>-9.094947e-13</td>\n",
       "    </tr>\n",
       "    <tr>\n",
       "      <th>25%</th>\n",
       "      <td>-9.313226e-10</td>\n",
       "      <td>-2.220446e-16</td>\n",
       "      <td>5.684342e-14</td>\n",
       "      <td>-2.131628e-14</td>\n",
       "      <td>0.000000e+00</td>\n",
       "      <td>-5.551115e-17</td>\n",
       "      <td>-5.820766e-11</td>\n",
       "      <td>0.000000e+00</td>\n",
       "      <td>-3.126388e-13</td>\n",
       "    </tr>\n",
       "    <tr>\n",
       "      <th>50%</th>\n",
       "      <td>-5.456968e-12</td>\n",
       "      <td>0.000000e+00</td>\n",
       "      <td>7.275958e-12</td>\n",
       "      <td>2.842171e-14</td>\n",
       "      <td>0.000000e+00</td>\n",
       "      <td>0.000000e+00</td>\n",
       "      <td>-7.275958e-12</td>\n",
       "      <td>1.065814e-14</td>\n",
       "      <td>-2.842171e-14</td>\n",
       "    </tr>\n",
       "    <tr>\n",
       "      <th>75%</th>\n",
       "      <td>7.275958e-12</td>\n",
       "      <td>2.220446e-16</td>\n",
       "      <td>2.182787e-11</td>\n",
       "      <td>7.105427e-14</td>\n",
       "      <td>1.776357e-15</td>\n",
       "      <td>5.551115e-17</td>\n",
       "      <td>2.546585e-11</td>\n",
       "      <td>2.131628e-14</td>\n",
       "      <td>2.557954e-13</td>\n",
       "    </tr>\n",
       "    <tr>\n",
       "      <th>max</th>\n",
       "      <td>2.048910e-08</td>\n",
       "      <td>5.329071e-15</td>\n",
       "      <td>1.164153e-10</td>\n",
       "      <td>1.159606e-11</td>\n",
       "      <td>4.547474e-12</td>\n",
       "      <td>3.330669e-16</td>\n",
       "      <td>4.802132e-10</td>\n",
       "      <td>5.684342e-14</td>\n",
       "      <td>8.526513e-13</td>\n",
       "    </tr>\n",
       "  </tbody>\n",
       "</table>\n",
       "</div>"
      ],
      "text/plain": [
       "        first_price  diff_first_prediction  prediction_price_per_square_meter  \\\n",
       "count  7.393800e+04           7.393800e+04                       7.393800e+04   \n",
       "mean  -7.297361e-10          -4.046703e-18                       1.125902e-11   \n",
       "std    3.513664e-09           7.437877e-16                       1.373339e-11   \n",
       "min   -2.421439e-08          -5.329071e-15                      -2.910383e-11   \n",
       "25%   -9.313226e-10          -2.220446e-16                       5.684342e-14   \n",
       "50%   -5.456968e-12           0.000000e+00                       7.275958e-12   \n",
       "75%    7.275958e-12           2.220446e-16                       2.182787e-11   \n",
       "max    2.048910e-08           5.329071e-15                       1.164153e-10   \n",
       "\n",
       "       surface_total  page_on_marketplace  is_new_property_prob  \\\n",
       "count   7.393800e+04         7.393800e+04          7.393800e+04   \n",
       "mean    4.403884e-14         2.671160e-15         -1.223367e-17   \n",
       "std     5.240604e-13         1.392541e-13          9.654644e-17   \n",
       "min    -9.777068e-12        -1.864464e-11         -3.330669e-16   \n",
       "25%    -2.131628e-14         0.000000e+00         -5.551115e-17   \n",
       "50%     2.842171e-14         0.000000e+00          0.000000e+00   \n",
       "75%     7.105427e-14         1.776357e-15          5.551115e-17   \n",
       "max     1.159606e-11         4.547474e-12          3.330669e-16   \n",
       "\n",
       "       total_cost_of_living   days_active  relative_cost_of_living  \n",
       "count          7.393800e+04  7.393800e+04             7.393800e+04  \n",
       "mean          -1.965533e-11  1.085877e-14            -2.693716e-14  \n",
       "std            1.038077e-10  1.144680e-14             3.594257e-13  \n",
       "min           -7.130438e-10 -1.065814e-14            -9.094947e-13  \n",
       "25%           -5.820766e-11  0.000000e+00            -3.126388e-13  \n",
       "50%           -7.275958e-12  1.065814e-14            -2.842171e-14  \n",
       "75%            2.546585e-11  2.131628e-14             2.557954e-13  \n",
       "max            4.802132e-10  5.684342e-14             8.526513e-13  "
      ]
     },
     "execution_count": 9,
     "metadata": {},
     "output_type": "execute_result"
    }
   ],
   "source": [
    "# look transformed data is the same as original\n",
    "data_aux = data_x[vars_x_numerical].copy()\n",
    "(pd.DataFrame(power_transform.inverse_transform(data_x_numeric_aux_boxcox), columns=vars_x_numerical) - data_aux).describe()"
   ]
  },
  {
   "cell_type": "code",
   "execution_count": 10,
   "metadata": {},
   "outputs": [
    {
     "data": {
      "text/plain": [
       "array([[<Axes: title={'center': 'first_price'}>,\n",
       "        <Axes: title={'center': 'diff_first_prediction'}>,\n",
       "        <Axes: title={'center': 'prediction_price_per_square_meter'}>],\n",
       "       [<Axes: title={'center': 'surface_total'}>,\n",
       "        <Axes: title={'center': 'page_on_marketplace'}>,\n",
       "        <Axes: title={'center': 'is_new_property_prob'}>],\n",
       "       [<Axes: title={'center': 'total_cost_of_living'}>,\n",
       "        <Axes: title={'center': 'days_active'}>,\n",
       "        <Axes: title={'center': 'relative_cost_of_living'}>]],\n",
       "      dtype=object)"
      ]
     },
     "execution_count": 10,
     "metadata": {},
     "output_type": "execute_result"
    },
    {
     "data": {
      "image/png": "[encoded data removed]",
      "text/plain": [
       "<Figure size 1500x1500 with 9 Axes>"
      ]
     },
     "metadata": {},
     "output_type": "display_data"
    }
   ],
   "source": [
    "pd.DataFrame(data_x_numeric_aux_boxcox, columns=vars_x_numerical).hist(layout=(3,3), figsize=(15,15), bins=50)"
   ]
  },
  {
   "cell_type": "markdown",
   "metadata": {},
   "source": [
    "# Fit Model"
   ]
  },
  {
   "cell_type": "code",
   "execution_count": 11,
   "metadata": {},
   "outputs": [],
   "source": [
    "# split train & test\n",
    "X_train, X_test, y_train, y_test = train_test_split(\n",
    "    data_x_numeric, data_y, test_size=0.1, random_state=42, shuffle=True\n",
    ")"
   ]
  },
  {
   "cell_type": "code",
   "execution_count": 12,
   "metadata": {},
   "outputs": [
    {
     "name": "stdout",
     "output_type": "stream",
     "text": [
      "(66544, 23)\n",
      "(7394, 23)\n"
     ]
    }
   ],
   "source": [
    "# print shapes\n",
    "print(X_train.shape)\n",
    "print(X_test.shape)"
   ]
  },
  {
   "cell_type": "code",
   "execution_count": 13,
   "metadata": {},
   "outputs": [
    {
     "name": "stdout",
     "output_type": "stream",
     "text": [
      "[0]\tvalidation-aft-nloglik:13.01941\n",
      "[50]\tvalidation-aft-nloglik:3.45500\n",
      "[100]\tvalidation-aft-nloglik:3.37323\n",
      "[150]\tvalidation-aft-nloglik:3.37041\n",
      "[200]\tvalidation-aft-nloglik:3.37010\n",
      "[250]\tvalidation-aft-nloglik:3.37011\n",
      "[279]\tvalidation-aft-nloglik:3.37001\n"
     ]
    },
    {
     "data": {
      "text/html": [
       "<style>#sk-container-id-1 {color: black;}#sk-container-id-1 pre{padding: 0;}#sk-container-id-1 div.sk-toggleable {background-color: white;}#sk-container-id-1 label.sk-toggleable__label {cursor: pointer;display: block;width: 100%;margin-bottom: 0;padding: 0.3em;box-sizing: border-box;text-align: center;}#sk-container-id-1 label.sk-toggleable__label-arrow:before {content: \"▸\";float: left;margin-right: 0.25em;color: #696969;}#sk-container-id-1 label.sk-toggleable__label-arrow:hover:before {color: black;}#sk-container-id-1 div.sk-estimator:hover label.sk-toggleable__label-arrow:before {color: black;}#sk-container-id-1 div.sk-toggleable__content {max-height: 0;max-width: 0;overflow: hidden;text-align: left;background-color: #f0f8ff;}#sk-container-id-1 div.sk-toggleable__content pre {margin: 0.2em;color: black;border-radius: 0.25em;background-color: #f0f8ff;}#sk-container-id-1 input.sk-toggleable__control:checked~div.sk-toggleable__content {max-height: 200px;max-width: 100%;overflow: auto;}#sk-container-id-1 input.sk-toggleable__control:checked~label.sk-toggleable__label-arrow:before {content: \"▾\";}#sk-container-id-1 div.sk-estimator input.sk-toggleable__control:checked~label.sk-toggleable__label {background-color: #d4ebff;}#sk-container-id-1 div.sk-label input.sk-toggleable__control:checked~label.sk-toggleable__label {background-color: #d4ebff;}#sk-container-id-1 input.sk-hidden--visually {border: 0;clip: rect(1px 1px 1px 1px);clip: rect(1px, 1px, 1px, 1px);height: 1px;margin: -1px;overflow: hidden;padding: 0;position: absolute;width: 1px;}#sk-container-id-1 div.sk-estimator {font-family: monospace;background-color: #f0f8ff;border: 1px dotted black;border-radius: 0.25em;box-sizing: border-box;margin-bottom: 0.5em;}#sk-container-id-1 div.sk-estimator:hover {background-color: #d4ebff;}#sk-container-id-1 div.sk-parallel-item::after {content: \"\";width: 100%;border-bottom: 1px solid gray;flex-grow: 1;}#sk-container-id-1 div.sk-label:hover label.sk-toggleable__label {background-color: #d4ebff;}#sk-container-id-1 div.sk-serial::before {content: \"\";position: absolute;border-left: 1px solid gray;box-sizing: border-box;top: 0;bottom: 0;left: 50%;z-index: 0;}#sk-container-id-1 div.sk-serial {display: flex;flex-direction: column;align-items: center;background-color: white;padding-right: 0.2em;padding-left: 0.2em;position: relative;}#sk-container-id-1 div.sk-item {position: relative;z-index: 1;}#sk-container-id-1 div.sk-parallel {display: flex;align-items: stretch;justify-content: center;background-color: white;position: relative;}#sk-container-id-1 div.sk-item::before, #sk-container-id-1 div.sk-parallel-item::before {content: \"\";position: absolute;border-left: 1px solid gray;box-sizing: border-box;top: 0;bottom: 0;left: 50%;z-index: -1;}#sk-container-id-1 div.sk-parallel-item {display: flex;flex-direction: column;z-index: 1;position: relative;background-color: white;}#sk-container-id-1 div.sk-parallel-item:first-child::after {align-self: flex-end;width: 50%;}#sk-container-id-1 div.sk-parallel-item:last-child::after {align-self: flex-start;width: 50%;}#sk-container-id-1 div.sk-parallel-item:only-child::after {width: 0;}#sk-container-id-1 div.sk-dashed-wrapped {border: 1px dashed gray;margin: 0 0.4em 0.5em 0.4em;box-sizing: border-box;padding-bottom: 0.4em;background-color: white;}#sk-container-id-1 div.sk-label label {font-family: monospace;font-weight: bold;display: inline-block;line-height: 1.2em;}#sk-container-id-1 div.sk-label-container {text-align: center;}#sk-container-id-1 div.sk-container {/* jupyter's `normalize.less` sets `[hidden] { display: none; }` but bootstrap.min.css set `[hidden] { display: none !important; }` so we also need the `!important` here to be able to override the default hidden behavior on the sphinx rendered scikit-learn.org. See: https://github.com/scikit-learn/scikit-learn/issues/21755 */display: inline-block !important;position: relative;}#sk-container-id-1 div.sk-text-repr-fallback {display: none;}</style><div id=\"sk-container-id-1\" class=\"sk-top-container\"><div class=\"sk-text-repr-fallback\"><pre>XGBSEStackedWeibull(weibull_params={},\n",
       "                    xgb_params={&#x27;aft_loss_distribution&#x27;: &#x27;normal&#x27;,\n",
       "                                &#x27;aft_loss_distribution_scale&#x27;: 1,\n",
       "                                &#x27;booster&#x27;: &#x27;dart&#x27;, &#x27;colsample_bynode&#x27;: 0.5,\n",
       "                                &#x27;eval_metric&#x27;: &#x27;aft-nloglik&#x27;,\n",
       "                                &#x27;learning_rate&#x27;: 0.05, &#x27;max_depth&#x27;: 8,\n",
       "                                &#x27;min_child_weight&#x27;: 50,\n",
       "                                &#x27;objective&#x27;: &#x27;survival:aft&#x27;, &#x27;subsample&#x27;: 0.5,\n",
       "                                &#x27;tree_method&#x27;: &#x27;hist&#x27;})</pre><b>In a Jupyter environment, please rerun this cell to show the HTML representation or trust the notebook. <br />On GitHub, the HTML representation is unable to render, please try loading this page with nbviewer.org.</b></div><div class=\"sk-container\" hidden><div class=\"sk-item\"><div class=\"sk-estimator sk-toggleable\"><input class=\"sk-toggleable__control sk-hidden--visually\" id=\"sk-estimator-id-1\" type=\"checkbox\" checked><label for=\"sk-estimator-id-1\" class=\"sk-toggleable__label sk-toggleable__label-arrow\">XGBSEStackedWeibull</label><div class=\"sk-toggleable__content\"><pre>XGBSEStackedWeibull(weibull_params={},\n",
       "                    xgb_params={&#x27;aft_loss_distribution&#x27;: &#x27;normal&#x27;,\n",
       "                                &#x27;aft_loss_distribution_scale&#x27;: 1,\n",
       "                                &#x27;booster&#x27;: &#x27;dart&#x27;, &#x27;colsample_bynode&#x27;: 0.5,\n",
       "                                &#x27;eval_metric&#x27;: &#x27;aft-nloglik&#x27;,\n",
       "                                &#x27;learning_rate&#x27;: 0.05, &#x27;max_depth&#x27;: 8,\n",
       "                                &#x27;min_child_weight&#x27;: 50,\n",
       "                                &#x27;objective&#x27;: &#x27;survival:aft&#x27;, &#x27;subsample&#x27;: 0.5,\n",
       "                                &#x27;tree_method&#x27;: &#x27;hist&#x27;})</pre></div></div></div></div></div>"
      ],
      "text/plain": [
       "XGBSEStackedWeibull(weibull_params={},\n",
       "                    xgb_params={'aft_loss_distribution': 'normal',\n",
       "                                'aft_loss_distribution_scale': 1,\n",
       "                                'booster': 'dart', 'colsample_bynode': 0.5,\n",
       "                                'eval_metric': 'aft-nloglik',\n",
       "                                'learning_rate': 0.05, 'max_depth': 8,\n",
       "                                'min_child_weight': 50,\n",
       "                                'objective': 'survival:aft', 'subsample': 0.5,\n",
       "                                'tree_method': 'hist'})"
      ]
     },
     "execution_count": 13,
     "metadata": {},
     "output_type": "execute_result"
    }
   ],
   "source": [
    "# fit weibull\n",
    "xgbse_weibull = XGBSEStackedWeibull() # use vanilla method, has performed better\n",
    "y_max = y_train['Survival_in_days'].max().astype(int)\n",
    "\n",
    "xgbse_weibull.fit(\n",
    "    X_train, y_train,\n",
    "    validation_data=(X_test, y_test),\n",
    "    early_stopping_rounds=50,\n",
    "    verbose_eval=50,\n",
    "    time_bins = range(1, y_max, 1)\n",
    ")"
   ]
  },
  {
   "cell_type": "code",
   "execution_count": 14,
   "metadata": {},
   "outputs": [
    {
     "data": {
      "text/html": [
       "<div>\n",
       "<style scoped>\n",
       "    .dataframe tbody tr th:only-of-type {\n",
       "        vertical-align: middle;\n",
       "    }\n",
       "\n",
       "    .dataframe tbody tr th {\n",
       "        vertical-align: top;\n",
       "    }\n",
       "\n",
       "    .dataframe thead th {\n",
       "        text-align: right;\n",
       "    }\n",
       "</style>\n",
       "<table border=\"1\" class=\"dataframe\">\n",
       "  <thead>\n",
       "    <tr style=\"text-align: right;\">\n",
       "      <th></th>\n",
       "      <th></th>\n",
       "      <th>rmse</th>\n",
       "      <th>cindex</th>\n",
       "    </tr>\n",
       "    <tr>\n",
       "      <th>listing_type</th>\n",
       "      <th>property_type</th>\n",
       "      <th></th>\n",
       "      <th></th>\n",
       "    </tr>\n",
       "  </thead>\n",
       "  <tbody>\n",
       "    <tr>\n",
       "      <th rowspan=\"2\" valign=\"top\">for-rent</th>\n",
       "      <th>apartment</th>\n",
       "      <td>24.745525</td>\n",
       "      <td>0.658456</td>\n",
       "    </tr>\n",
       "    <tr>\n",
       "      <th>house</th>\n",
       "      <td>29.560132</td>\n",
       "      <td>0.636340</td>\n",
       "    </tr>\n",
       "    <tr>\n",
       "      <th rowspan=\"2\" valign=\"top\">for-sale</th>\n",
       "      <th>apartment</th>\n",
       "      <td>43.316285</td>\n",
       "      <td>0.720126</td>\n",
       "    </tr>\n",
       "    <tr>\n",
       "      <th>house</th>\n",
       "      <td>43.607878</td>\n",
       "      <td>0.694683</td>\n",
       "    </tr>\n",
       "  </tbody>\n",
       "</table>\n",
       "</div>"
      ],
      "text/plain": [
       "                                 rmse    cindex\n",
       "listing_type property_type                     \n",
       "for-rent     apartment      24.745525  0.658456\n",
       "             house          29.560132  0.636340\n",
       "for-sale     apartment      43.316285  0.720126\n",
       "             house          43.607878  0.694683"
      ]
     },
     "execution_count": 14,
     "metadata": {},
     "output_type": "execute_result"
    }
   ],
   "source": [
    "def get_xgbse_mean_time(df):\n",
    "    \"\"\"Get mean time to event for a given time interval.\"\"\"\n",
    "    # get linespace from names of columns\n",
    "    delta = df.columns.astype(int).to_numpy()\n",
    "    # get survival probabilities as the values of the dataframe\n",
    "    surv_probas = df.values\n",
    "\n",
    "    # for each row, compute the area under the curve\n",
    "    mean_time = np.array([simpson(y=y, x=delta) for y in surv_probas])\n",
    "\n",
    "    return(mean_time)\n",
    "\n",
    "def get_metrics(df):\n",
    "    df = df.copy()\n",
    "    cindex = concordance_index_censored(df['event'], df['observed_time'], df['risk_score'])[0]\n",
    "    # rmse & mape for all with event as True\n",
    "    rmse = np.sqrt(np.mean((df[df['event']]['predicted_time'] - df[df['event']]['observed_time'])**2))\n",
    "    return pd.Series({'rmse': rmse, 'cindex': cindex})\n",
    "\n",
    "def get_prediction_df(X, y, colnames, model):\n",
    "    # get rmse, mape and cindex by listing & property type\n",
    "    df_pred = (\n",
    "        pd.DataFrame(X, columns=colnames)\n",
    "        .assign(\n",
    "            observed_time=y['Survival_in_days'],\n",
    "            event=y['Status'],\n",
    "            predicted_time=model.predict(X).pipe(get_xgbse_mean_time),\n",
    "            risk_score=lambda x: - x['predicted_time']\n",
    "        )\n",
    "        .rename(columns={\n",
    "        'listing_type=for-sale': 'listing_type',\n",
    "        'property_type=house': 'property_type',\n",
    "        })\n",
    "        .assign(\n",
    "            listing_type=lambda x: np.where(x['listing_type'] == 1, 'for-sale', 'for-rent'),\n",
    "            property_type=lambda x: np.where(x['property_type'] == 1, 'house', 'apartment'),\n",
    "        )  \n",
    "    )\n",
    "\n",
    "    return df_pred\n",
    "\n",
    "# get prediction df\n",
    "df_pred = get_prediction_df(X_test, y_test, colnames_x_numeric, xgbse_weibull)\n",
    "\n",
    "# get metrics\n",
    "table_metrics = (\n",
    "    df_pred\n",
    "    .groupby(['listing_type', 'property_type'])\n",
    "    .apply(get_metrics)\n",
    ")\n",
    "table_metrics"
   ]
  },
  {
   "cell_type": "markdown",
   "metadata": {},
   "source": [
    "# Upload to MLflow"
   ]
  },
  {
   "cell_type": "markdown",
   "metadata": {},
   "source": [
    "## Setup"
   ]
  },
  {
   "cell_type": "code",
   "execution_count": 75,
   "metadata": {},
   "outputs": [
    {
     "data": {
      "text/plain": [
       "<Experiment: artifact_location='s3://dd360-ds-artifacts/134', creation_time=1699546350370, experiment_id='134', last_update_time=1699546350370, lifecycle_stage='active', name='liquidity-cdmx', tags={}>"
      ]
     },
     "execution_count": 75,
     "metadata": {},
     "output_type": "execute_result"
    }
   ],
   "source": [
    "# keys\n",
    "os.environ[\"AWS_PROFILE\"] = \"default\" # prod\n",
    "\n",
    "# track server\n",
    "TRACKING_SERVER_HOST = \"mlflow.prod.dd360.mx\" # fill in with the public DNS of the EC2 instance\n",
    "\n",
    "# set uri\n",
    "mlflow.set_tracking_uri(f\"http://{TRACKING_SERVER_HOST}:443\")\n",
    "\n",
    "# experiment\n",
    "EXPERIMENT_NAME = \"liquidity-cdmx\"\n",
    "mlflow.set_experiment(EXPERIMENT_NAME)"
   ]
  },
  {
   "cell_type": "markdown",
   "metadata": {},
   "source": [
    "## Start Run"
   ]
  },
  {
   "cell_type": "code",
   "execution_count": 104,
   "metadata": {},
   "outputs": [],
   "source": [
    "# cloudpickle\n",
    "power_transform_serialized = cloudpickle.dumps(power_transform)\n",
    "standard_scaler_serialized = cloudpickle.dumps(standard_scaler)\n",
    "xgbse_weibull_serialized = cloudpickle.dumps(xgbse_weibull)"
   ]
  },
  {
   "cell_type": "code",
   "execution_count": 140,
   "metadata": {},
   "outputs": [
    {
     "name": "stderr",
     "output_type": "stream",
     "text": [
      "2023/11/09 16:28:59 WARNING mlflow.sklearn: Model was missing function: predict. Not logging python_function flavor!\n",
      "/Users/ravj/opt/anaconda3/envs/dd3surv/lib/python3.9/site-packages/_distutils_hack/__init__.py:18: UserWarning: Distutils was imported before Setuptools, but importing Setuptools also replaces the `distutils` module in `sys.modules`. This may lead to undesirable behaviors or errors. To avoid these issues, avoid using distutils directly, ensure that setuptools is installed in the traditional way (e.g. not an editable install), and/or make sure that setuptools is always imported before distutils.\n",
      "  warnings.warn(\n",
      "/Users/ravj/opt/anaconda3/envs/dd3surv/lib/python3.9/site-packages/_distutils_hack/__init__.py:33: UserWarning: Setuptools is replacing distutils.\n",
      "  warnings.warn(\"Setuptools is replacing distutils.\")\n",
      "2023/11/09 16:29:03 WARNING mlflow.sklearn: Model was missing function: predict. Not logging python_function flavor!\n",
      "2023/11/09 16:29:05 WARNING mlflow.sklearn: Model was missing function: predict. Not logging python_function flavor!\n"
     ]
    }
   ],
   "source": [
    "# # start run\n",
    "# with mlflow.start_run() as run:\n",
    "#     # set tags\n",
    "#     mlflow.set_tag('model', 'survival')\n",
    "#     mlflow.set_tag('model-type', 'xgbse-stacked-weibull')\n",
    "#     mlflow.set_tag('model-name', 'liquidity_v1')\n",
    "#     mlflow.set_tag('model-version', '1.0.0')\n",
    "#     mlflow.set_tag('model-description', 'Modelo de supervivencia para predecir el tiempo de venta de una propiedad')\n",
    "#     # log model\n",
    "\n",
    "#     # mlflow.log_artifact(xgbse_weibull, 'model')\n",
    "#     # log variables\n",
    "#     mlflow.log_param('variables', vars_x_names)\n",
    "#     mlflow.log_param('categorical_variables', vars_x_categorical)\n",
    "#     mlflow.log_param('discrete_variables', vars_x_discrete)\n",
    "#     mlflow.log_param('woe_variables', vars_x_woe)\n",
    "#     mlflow.log_param('numerical_variables', vars_x_numerical)\n",
    "#     mlflow.log_param('binary_variables', vars_x_binary)\n",
    "#     mlflow.log_param('geographic_variables', vars_x_geographic)\n",
    "#     mlflow.log_param('time_variables', vars_x_time)\n",
    "#     # log transformations\n",
    "#     mlflow.sklearn.log_model(power_transform_serialized, 'power_transform', serialization_format=mlflow.sklearn.SERIALIZATION_FORMAT_CLOUDPICKLE)\n",
    "#     mlflow.sklearn.log_model(standard_scaler_serialized, 'standard_scaler', serialization_format=mlflow.sklearn.SERIALIZATION_FORMAT_CLOUDPICKLE)\n",
    "#     mlflow.sklearn.log_model(xgbse_weibull_serialized, 'xgbse_weibull', serialization_format=mlflow.sklearn.SERIALIZATION_FORMAT_CLOUDPICKLE)\n",
    "#     # log all the table_metrics\n",
    "#     for index, row in table_metrics.iterrows():\n",
    "#         mlflow.log_metric(f\"rmse_{index[0]}_{index[1]}\", row['rmse'])\n",
    "#         mlflow.log_metric(f\"cindex_{index[0]}_{index[1]}\", row['cindex'])\n",
    "    \n",
    "# # end run\n",
    "# mlflow.end_run()"
   ]
  },
  {
   "cell_type": "markdown",
   "metadata": {},
   "source": [
    "## Try to load model"
   ]
  },
  {
   "cell_type": "code",
   "execution_count": 137,
   "metadata": {},
   "outputs": [
    {
     "name": "stderr",
     "output_type": "stream",
     "text": [
      "Downloading artifacts: 100%|██████████| 5/5 [00:00<00:00,  9.44it/s]\n",
      "Downloading artifacts: 100%|██████████| 5/5 [00:00<00:00, 26.44it/s]\n",
      "Downloading artifacts: 100%|██████████| 5/5 [00:01<00:00,  4.23it/s]\n"
     ]
    }
   ],
   "source": [
    "# # get log id\n",
    "# log_id = \"39d3eadaedf5499d9051fdfa94bd6994\"\n",
    "\n",
    "# # load models #\n",
    "# # load power transform\n",
    "# power_transform_load = cloudpickle.loads(mlflow.sklearn.load_model(f\"runs:/{log_id}/power_transform\"))\n",
    "# # load standard scaler\n",
    "# standard_scaler_load = cloudpickle.loads(mlflow.sklearn.load_model(f\"runs:/{log_id}/standard_scaler\"))\n",
    "# # # load xgbse weibull\n",
    "# xgbse_weibull_load =  cloudpickle.loads(mlflow.sklearn.load_model(f\"runs:/{log_id}/xgbse_weibull\"))"
   ]
  },
  {
   "cell_type": "markdown",
   "metadata": {},
   "source": [
    "### Check"
   ]
  },
  {
   "cell_type": "code",
   "execution_count": 124,
   "metadata": {},
   "outputs": [
    {
     "data": {
      "text/html": [
       "<div>\n",
       "<style scoped>\n",
       "    .dataframe tbody tr th:only-of-type {\n",
       "        vertical-align: middle;\n",
       "    }\n",
       "\n",
       "    .dataframe tbody tr th {\n",
       "        vertical-align: top;\n",
       "    }\n",
       "\n",
       "    .dataframe thead th {\n",
       "        text-align: right;\n",
       "    }\n",
       "</style>\n",
       "<table border=\"1\" class=\"dataframe\">\n",
       "  <thead>\n",
       "    <tr style=\"text-align: right;\">\n",
       "      <th></th>\n",
       "      <th>15</th>\n",
       "      <th>16</th>\n",
       "      <th>17</th>\n",
       "    </tr>\n",
       "  </thead>\n",
       "  <tbody>\n",
       "    <tr>\n",
       "      <th>count</th>\n",
       "      <td>73938.0</td>\n",
       "      <td>73938.0</td>\n",
       "      <td>73938.0</td>\n",
       "    </tr>\n",
       "    <tr>\n",
       "      <th>mean</th>\n",
       "      <td>0.0</td>\n",
       "      <td>0.0</td>\n",
       "      <td>0.0</td>\n",
       "    </tr>\n",
       "    <tr>\n",
       "      <th>std</th>\n",
       "      <td>0.0</td>\n",
       "      <td>0.0</td>\n",
       "      <td>0.0</td>\n",
       "    </tr>\n",
       "    <tr>\n",
       "      <th>min</th>\n",
       "      <td>0.0</td>\n",
       "      <td>0.0</td>\n",
       "      <td>0.0</td>\n",
       "    </tr>\n",
       "    <tr>\n",
       "      <th>25%</th>\n",
       "      <td>0.0</td>\n",
       "      <td>0.0</td>\n",
       "      <td>0.0</td>\n",
       "    </tr>\n",
       "    <tr>\n",
       "      <th>50%</th>\n",
       "      <td>0.0</td>\n",
       "      <td>0.0</td>\n",
       "      <td>0.0</td>\n",
       "    </tr>\n",
       "    <tr>\n",
       "      <th>75%</th>\n",
       "      <td>0.0</td>\n",
       "      <td>0.0</td>\n",
       "      <td>0.0</td>\n",
       "    </tr>\n",
       "    <tr>\n",
       "      <th>max</th>\n",
       "      <td>0.0</td>\n",
       "      <td>0.0</td>\n",
       "      <td>0.0</td>\n",
       "    </tr>\n",
       "  </tbody>\n",
       "</table>\n",
       "</div>"
      ],
      "text/plain": [
       "            15       16       17\n",
       "count  73938.0  73938.0  73938.0\n",
       "mean       0.0      0.0      0.0\n",
       "std        0.0      0.0      0.0\n",
       "min        0.0      0.0      0.0\n",
       "25%        0.0      0.0      0.0\n",
       "50%        0.0      0.0      0.0\n",
       "75%        0.0      0.0      0.0\n",
       "max        0.0      0.0      0.0"
      ]
     },
     "execution_count": 124,
     "metadata": {},
     "output_type": "execute_result"
    }
   ],
   "source": [
    "# # look transformed data is the same as original\n",
    "# data_aux = data_x[vars_x_discrete + vars_x_geographic].copy()\n",
    "# (pd.DataFrame(standard_scaler_load.inverse_transform(data_x_numeric_aux_scale), columns=location_cols_scale) - pd.DataFrame(standard_scaler_load.inverse_transform(data_x_numeric_aux_scale), columns=location_cols_scale)).describe()"
   ]
  },
  {
   "cell_type": "code",
   "execution_count": 126,
   "metadata": {},
   "outputs": [
    {
     "data": {
      "text/html": [
       "<style>#sk-container-id-8 {color: black;}#sk-container-id-8 pre{padding: 0;}#sk-container-id-8 div.sk-toggleable {background-color: white;}#sk-container-id-8 label.sk-toggleable__label {cursor: pointer;display: block;width: 100%;margin-bottom: 0;padding: 0.3em;box-sizing: border-box;text-align: center;}#sk-container-id-8 label.sk-toggleable__label-arrow:before {content: \"▸\";float: left;margin-right: 0.25em;color: #696969;}#sk-container-id-8 label.sk-toggleable__label-arrow:hover:before {color: black;}#sk-container-id-8 div.sk-estimator:hover label.sk-toggleable__label-arrow:before {color: black;}#sk-container-id-8 div.sk-toggleable__content {max-height: 0;max-width: 0;overflow: hidden;text-align: left;background-color: #f0f8ff;}#sk-container-id-8 div.sk-toggleable__content pre {margin: 0.2em;color: black;border-radius: 0.25em;background-color: #f0f8ff;}#sk-container-id-8 input.sk-toggleable__control:checked~div.sk-toggleable__content {max-height: 200px;max-width: 100%;overflow: auto;}#sk-container-id-8 input.sk-toggleable__control:checked~label.sk-toggleable__label-arrow:before {content: \"▾\";}#sk-container-id-8 div.sk-estimator input.sk-toggleable__control:checked~label.sk-toggleable__label {background-color: #d4ebff;}#sk-container-id-8 div.sk-label input.sk-toggleable__control:checked~label.sk-toggleable__label {background-color: #d4ebff;}#sk-container-id-8 input.sk-hidden--visually {border: 0;clip: rect(1px 1px 1px 1px);clip: rect(1px, 1px, 1px, 1px);height: 1px;margin: -1px;overflow: hidden;padding: 0;position: absolute;width: 1px;}#sk-container-id-8 div.sk-estimator {font-family: monospace;background-color: #f0f8ff;border: 1px dotted black;border-radius: 0.25em;box-sizing: border-box;margin-bottom: 0.5em;}#sk-container-id-8 div.sk-estimator:hover {background-color: #d4ebff;}#sk-container-id-8 div.sk-parallel-item::after {content: \"\";width: 100%;border-bottom: 1px solid gray;flex-grow: 1;}#sk-container-id-8 div.sk-label:hover label.sk-toggleable__label {background-color: #d4ebff;}#sk-container-id-8 div.sk-serial::before {content: \"\";position: absolute;border-left: 1px solid gray;box-sizing: border-box;top: 0;bottom: 0;left: 50%;z-index: 0;}#sk-container-id-8 div.sk-serial {display: flex;flex-direction: column;align-items: center;background-color: white;padding-right: 0.2em;padding-left: 0.2em;position: relative;}#sk-container-id-8 div.sk-item {position: relative;z-index: 1;}#sk-container-id-8 div.sk-parallel {display: flex;align-items: stretch;justify-content: center;background-color: white;position: relative;}#sk-container-id-8 div.sk-item::before, #sk-container-id-8 div.sk-parallel-item::before {content: \"\";position: absolute;border-left: 1px solid gray;box-sizing: border-box;top: 0;bottom: 0;left: 50%;z-index: -1;}#sk-container-id-8 div.sk-parallel-item {display: flex;flex-direction: column;z-index: 1;position: relative;background-color: white;}#sk-container-id-8 div.sk-parallel-item:first-child::after {align-self: flex-end;width: 50%;}#sk-container-id-8 div.sk-parallel-item:last-child::after {align-self: flex-start;width: 50%;}#sk-container-id-8 div.sk-parallel-item:only-child::after {width: 0;}#sk-container-id-8 div.sk-dashed-wrapped {border: 1px dashed gray;margin: 0 0.4em 0.5em 0.4em;box-sizing: border-box;padding-bottom: 0.4em;background-color: white;}#sk-container-id-8 div.sk-label label {font-family: monospace;font-weight: bold;display: inline-block;line-height: 1.2em;}#sk-container-id-8 div.sk-label-container {text-align: center;}#sk-container-id-8 div.sk-container {/* jupyter's `normalize.less` sets `[hidden] { display: none; }` but bootstrap.min.css set `[hidden] { display: none !important; }` so we also need the `!important` here to be able to override the default hidden behavior on the sphinx rendered scikit-learn.org. See: https://github.com/scikit-learn/scikit-learn/issues/21755 */display: inline-block !important;position: relative;}#sk-container-id-8 div.sk-text-repr-fallback {display: none;}</style><div id=\"sk-container-id-8\" class=\"sk-top-container\"><div class=\"sk-text-repr-fallback\"><pre>XGBSEStackedWeibull(weibull_params={},\n",
       "                    xgb_params={&#x27;aft_loss_distribution&#x27;: &#x27;normal&#x27;,\n",
       "                                &#x27;aft_loss_distribution_scale&#x27;: 1,\n",
       "                                &#x27;booster&#x27;: &#x27;dart&#x27;, &#x27;colsample_bynode&#x27;: 0.5,\n",
       "                                &#x27;eval_metric&#x27;: &#x27;aft-nloglik&#x27;,\n",
       "                                &#x27;learning_rate&#x27;: 0.05, &#x27;max_depth&#x27;: 8,\n",
       "                                &#x27;min_child_weight&#x27;: 50,\n",
       "                                &#x27;objective&#x27;: &#x27;survival:aft&#x27;, &#x27;subsample&#x27;: 0.5,\n",
       "                                &#x27;tree_method&#x27;: &#x27;hist&#x27;})</pre><b>In a Jupyter environment, please rerun this cell to show the HTML representation or trust the notebook. <br />On GitHub, the HTML representation is unable to render, please try loading this page with nbviewer.org.</b></div><div class=\"sk-container\" hidden><div class=\"sk-item\"><div class=\"sk-estimator sk-toggleable\"><input class=\"sk-toggleable__control sk-hidden--visually\" id=\"sk-estimator-id-8\" type=\"checkbox\" checked><label for=\"sk-estimator-id-8\" class=\"sk-toggleable__label sk-toggleable__label-arrow\">XGBSEStackedWeibull</label><div class=\"sk-toggleable__content\"><pre>XGBSEStackedWeibull(weibull_params={},\n",
       "                    xgb_params={&#x27;aft_loss_distribution&#x27;: &#x27;normal&#x27;,\n",
       "                                &#x27;aft_loss_distribution_scale&#x27;: 1,\n",
       "                                &#x27;booster&#x27;: &#x27;dart&#x27;, &#x27;colsample_bynode&#x27;: 0.5,\n",
       "                                &#x27;eval_metric&#x27;: &#x27;aft-nloglik&#x27;,\n",
       "                                &#x27;learning_rate&#x27;: 0.05, &#x27;max_depth&#x27;: 8,\n",
       "                                &#x27;min_child_weight&#x27;: 50,\n",
       "                                &#x27;objective&#x27;: &#x27;survival:aft&#x27;, &#x27;subsample&#x27;: 0.5,\n",
       "                                &#x27;tree_method&#x27;: &#x27;hist&#x27;})</pre></div></div></div></div></div>"
      ],
      "text/plain": [
       "XGBSEStackedWeibull(weibull_params={},\n",
       "                    xgb_params={'aft_loss_distribution': 'normal',\n",
       "                                'aft_loss_distribution_scale': 1,\n",
       "                                'booster': 'dart', 'colsample_bynode': 0.5,\n",
       "                                'eval_metric': 'aft-nloglik',\n",
       "                                'learning_rate': 0.05, 'max_depth': 8,\n",
       "                                'min_child_weight': 50,\n",
       "                                'objective': 'survival:aft', 'subsample': 0.5,\n",
       "                                'tree_method': 'hist'})"
      ]
     },
     "execution_count": 126,
     "metadata": {},
     "output_type": "execute_result"
    }
   ],
   "source": [
    "# xgbse_weibull_load"
   ]
  },
  {
   "cell_type": "code",
   "execution_count": 136,
   "metadata": {},
   "outputs": [
    {
     "data": {
      "text/plain": [
       "listing_type                             for-rent\n",
       "property_type                           apartment\n",
       "first_price                                8900.0\n",
       "diff_first_prediction                   -0.097642\n",
       "prediction_price_per_square_meter      142.942667\n",
       "surface_total                                69.0\n",
       "page_on_marketplace                           2.0\n",
       "is_new_property_prob                       0.5044\n",
       "total_cost_of_living                 25043.204753\n",
       "days_active                             24.530747\n",
       "relative_cost_of_living                178.435238\n",
       "is_exterior                                     0\n",
       "has_gym                                         0\n",
       "pets_allowed                                    1\n",
       "has_maintenance                                 0\n",
       "num_bedrooms                                  2.0\n",
       "latitude                                19.478474\n",
       "longitude                              -99.210293\n",
       "woe_marketplace                          0.290533\n",
       "woe_seller                               0.068438\n",
       "woe_id_sepomex                           0.931353\n",
       "sine_tmonth                                   0.0\n",
       "cosine_tmonth                                -1.0\n",
       "Name: 0, dtype: object"
      ]
     },
     "execution_count": 136,
     "metadata": {},
     "output_type": "execute_result"
    }
   ],
   "source": [
    "# get one value\n",
    "data_x.loc[0]"
   ]
  },
  {
   "cell_type": "code",
   "execution_count": 139,
   "metadata": {},
   "outputs": [
    {
     "name": "stderr",
     "output_type": "stream",
     "text": [
      "Downloading artifacts: 100%|██████████| 5/5 [00:00<00:00, 11.96it/s]\n",
      "Downloading artifacts: 100%|██████████| 5/5 [00:00<00:00, 19.71it/s]\n",
      "Downloading artifacts: 100%|██████████| 5/5 [00:01<00:00,  4.90it/s]\n"
     ]
    }
   ],
   "source": [
    "# def load_models(log_id):\n",
    "#     \"\"\"\n",
    "#     Load models from mlflow\n",
    "#     \"\"\"\n",
    "#     # get the model\n",
    "\n",
    "#     # load power transform\n",
    "#     power_transform_load = cloudpickle.loads(mlflow.sklearn.load_model(f\"runs:/{log_id}/power_transform\"))\n",
    "#     # load standard scaler\n",
    "#     standard_scaler_load = cloudpickle.loads(mlflow.sklearn.load_model(f\"runs:/{log_id}/standard_scaler\"))\n",
    "#     # # load xgbse weibull\n",
    "#     xgbse_weibull_load =  cloudpickle.loads(mlflow.sklearn.load_model(f\"runs:/{log_id}/xgbse_weibull\"))\n",
    "\n",
    "#     # save them into a dictionary\n",
    "#     models = {\n",
    "#         \"power_transform\": power_transform_load,\n",
    "#         \"standard_scaler\": standard_scaler_load,\n",
    "#         \"xgbse_weibull\": xgbse_weibull_load\n",
    "#     }\n",
    "#     return models\n",
    "\n",
    "# LOG_ID = \"39d3eadaedf5499d9051fdfa94bd6994\"\n",
    "# models = load_models(LOG_ID)\n"
   ]
  },
  {
   "cell_type": "markdown",
   "metadata": {},
   "source": [
    "# Save Model "
   ]
  },
  {
   "cell_type": "code",
   "execution_count": 23,
   "metadata": {},
   "outputs": [],
   "source": [
    "# create directory\n",
    "os.makedirs('models', exist_ok=True)"
   ]
  },
  {
   "cell_type": "code",
   "execution_count": 24,
   "metadata": {},
   "outputs": [],
   "source": [
    "# save to cloudpickle\n",
    "with open('models/power_transform.pkl', 'wb') as f:\n",
    "    cloudpickle.dump(power_transform, f)\n",
    "\n",
    "with open('models/standard_scaler.pkl', 'wb') as f:\n",
    "    cloudpickle.dump(standard_scaler, f)\n",
    "\n",
    "with open('models/xgbse_weibull.pkl', 'wb') as f:\n",
    "    cloudpickle.dump(xgbse_weibull, f)\n",
    "    "
   ]
  },
  {
   "cell_type": "code",
   "execution_count": 25,
   "metadata": {},
   "outputs": [],
   "source": [
    "# load from cloudpickle\n",
    "with open('models/power_transform.pkl', 'rb') as f:\n",
    "    power_transform_load = cloudpickle.load(f)\n",
    "\n",
    "with open('models/standard_scaler.pkl', 'rb') as f:\n",
    "    standard_scaler_load = cloudpickle.load(f)\n",
    "\n",
    "with open('models/xgbse_weibull.pkl', 'rb') as f:\n",
    "    xgbse_weibull_load = cloudpickle.load(f)\n",
    "    "
   ]
  },
  {
   "cell_type": "markdown",
   "metadata": {},
   "source": [
    "## Compare"
   ]
  },
  {
   "cell_type": "code",
   "execution_count": 20,
   "metadata": {},
   "outputs": [
    {
     "data": {
      "text/html": [
       "<div>\n",
       "<style scoped>\n",
       "    .dataframe tbody tr th:only-of-type {\n",
       "        vertical-align: middle;\n",
       "    }\n",
       "\n",
       "    .dataframe tbody tr th {\n",
       "        vertical-align: top;\n",
       "    }\n",
       "\n",
       "    .dataframe thead th {\n",
       "        text-align: right;\n",
       "    }\n",
       "</style>\n",
       "<table border=\"1\" class=\"dataframe\">\n",
       "  <thead>\n",
       "    <tr style=\"text-align: right;\">\n",
       "      <th></th>\n",
       "      <th>1.0</th>\n",
       "      <th>2.0</th>\n",
       "      <th>3.0</th>\n",
       "      <th>4.0</th>\n",
       "      <th>5.0</th>\n",
       "      <th>6.0</th>\n",
       "      <th>7.0</th>\n",
       "      <th>8.0</th>\n",
       "      <th>9.0</th>\n",
       "      <th>10.0</th>\n",
       "      <th>...</th>\n",
       "      <th>168.0</th>\n",
       "      <th>169.0</th>\n",
       "      <th>170.0</th>\n",
       "      <th>171.0</th>\n",
       "      <th>172.0</th>\n",
       "      <th>173.0</th>\n",
       "      <th>174.0</th>\n",
       "      <th>175.0</th>\n",
       "      <th>176.0</th>\n",
       "      <th>177.0</th>\n",
       "    </tr>\n",
       "  </thead>\n",
       "  <tbody>\n",
       "    <tr>\n",
       "      <th>0</th>\n",
       "      <td>0.996792</td>\n",
       "      <td>0.990434</td>\n",
       "      <td>0.981918</td>\n",
       "      <td>0.971655</td>\n",
       "      <td>0.959907</td>\n",
       "      <td>0.946875</td>\n",
       "      <td>0.932718</td>\n",
       "      <td>0.917573</td>\n",
       "      <td>0.901559</td>\n",
       "      <td>0.884784</td>\n",
       "      <td>...</td>\n",
       "      <td>0.000025</td>\n",
       "      <td>0.000023</td>\n",
       "      <td>0.000021</td>\n",
       "      <td>0.000019</td>\n",
       "      <td>0.000017</td>\n",
       "      <td>0.000015</td>\n",
       "      <td>0.000014</td>\n",
       "      <td>0.000012</td>\n",
       "      <td>0.000011</td>\n",
       "      <td>0.00001</td>\n",
       "    </tr>\n",
       "  </tbody>\n",
       "</table>\n",
       "<p>1 rows × 177 columns</p>\n",
       "</div>"
      ],
      "text/plain": [
       "      1.0       2.0       3.0       4.0       5.0       6.0       7.0    \\\n",
       "0  0.996792  0.990434  0.981918  0.971655  0.959907  0.946875  0.932718   \n",
       "\n",
       "      8.0       9.0       10.0   ...     168.0     169.0     170.0     171.0  \\\n",
       "0  0.917573  0.901559  0.884784  ...  0.000025  0.000023  0.000021  0.000019   \n",
       "\n",
       "      172.0     173.0     174.0     175.0     176.0    177.0  \n",
       "0  0.000017  0.000015  0.000014  0.000012  0.000011  0.00001  \n",
       "\n",
       "[1 rows x 177 columns]"
      ]
     },
     "execution_count": 20,
     "metadata": {},
     "output_type": "execute_result"
    }
   ],
   "source": [
    "xgbse_weibull_load.predict(data_x_numeric[0:1])"
   ]
  },
  {
   "cell_type": "code",
   "execution_count": 21,
   "metadata": {},
   "outputs": [
    {
     "data": {
      "text/html": [
       "<div>\n",
       "<style scoped>\n",
       "    .dataframe tbody tr th:only-of-type {\n",
       "        vertical-align: middle;\n",
       "    }\n",
       "\n",
       "    .dataframe tbody tr th {\n",
       "        vertical-align: top;\n",
       "    }\n",
       "\n",
       "    .dataframe thead th {\n",
       "        text-align: right;\n",
       "    }\n",
       "</style>\n",
       "<table border=\"1\" class=\"dataframe\">\n",
       "  <thead>\n",
       "    <tr style=\"text-align: right;\">\n",
       "      <th></th>\n",
       "      <th>1.0</th>\n",
       "      <th>2.0</th>\n",
       "      <th>3.0</th>\n",
       "      <th>4.0</th>\n",
       "      <th>5.0</th>\n",
       "      <th>6.0</th>\n",
       "      <th>7.0</th>\n",
       "      <th>8.0</th>\n",
       "      <th>9.0</th>\n",
       "      <th>10.0</th>\n",
       "      <th>...</th>\n",
       "      <th>168.0</th>\n",
       "      <th>169.0</th>\n",
       "      <th>170.0</th>\n",
       "      <th>171.0</th>\n",
       "      <th>172.0</th>\n",
       "      <th>173.0</th>\n",
       "      <th>174.0</th>\n",
       "      <th>175.0</th>\n",
       "      <th>176.0</th>\n",
       "      <th>177.0</th>\n",
       "    </tr>\n",
       "  </thead>\n",
       "  <tbody>\n",
       "    <tr>\n",
       "      <th>0</th>\n",
       "      <td>0.996792</td>\n",
       "      <td>0.990434</td>\n",
       "      <td>0.981918</td>\n",
       "      <td>0.971655</td>\n",
       "      <td>0.959907</td>\n",
       "      <td>0.946875</td>\n",
       "      <td>0.932718</td>\n",
       "      <td>0.917573</td>\n",
       "      <td>0.901559</td>\n",
       "      <td>0.884784</td>\n",
       "      <td>...</td>\n",
       "      <td>0.000025</td>\n",
       "      <td>0.000023</td>\n",
       "      <td>0.000021</td>\n",
       "      <td>0.000019</td>\n",
       "      <td>0.000017</td>\n",
       "      <td>0.000015</td>\n",
       "      <td>0.000014</td>\n",
       "      <td>0.000012</td>\n",
       "      <td>0.000011</td>\n",
       "      <td>0.00001</td>\n",
       "    </tr>\n",
       "  </tbody>\n",
       "</table>\n",
       "<p>1 rows × 177 columns</p>\n",
       "</div>"
      ],
      "text/plain": [
       "      1.0       2.0       3.0       4.0       5.0       6.0       7.0    \\\n",
       "0  0.996792  0.990434  0.981918  0.971655  0.959907  0.946875  0.932718   \n",
       "\n",
       "      8.0       9.0       10.0   ...     168.0     169.0     170.0     171.0  \\\n",
       "0  0.917573  0.901559  0.884784  ...  0.000025  0.000023  0.000021  0.000019   \n",
       "\n",
       "      172.0     173.0     174.0     175.0     176.0    177.0  \n",
       "0  0.000017  0.000015  0.000014  0.000012  0.000011  0.00001  \n",
       "\n",
       "[1 rows x 177 columns]"
      ]
     },
     "execution_count": 21,
     "metadata": {},
     "output_type": "execute_result"
    }
   ],
   "source": [
    "xgbse_weibull.predict(data_x_numeric[0:1])"
   ]
  },
  {
   "cell_type": "markdown",
   "metadata": {},
   "source": [
    "# Sandbox"
   ]
  },
  {
   "cell_type": "code",
   "execution_count": 142,
   "metadata": {},
   "outputs": [
    {
     "data": {
      "text/plain": [
       "array([ 1.00000000e+00,  0.00000000e+00,  4.98845555e-01,  7.07363071e-01,\n",
       "        7.85061777e-01, -6.38278935e-01,  3.01127414e-01,  1.42833253e+00,\n",
       "       -3.81594977e-01,  1.00374141e+00, -5.11027259e-03,  0.00000000e+00,\n",
       "        0.00000000e+00,  1.00000000e+00,  0.00000000e+00, -5.26373085e-01,\n",
       "       -1.59869540e+00,  1.31350246e+00,  2.90532970e-01, -1.12035485e+00,\n",
       "        2.71256568e-01, -1.00000000e+00, -1.83697020e-16])"
      ]
     },
     "execution_count": 142,
     "metadata": {},
     "output_type": "execute_result"
    }
   ],
   "source": [
    "X_test[0]"
   ]
  },
  {
   "cell_type": "code",
   "execution_count": 143,
   "metadata": {},
   "outputs": [
    {
     "data": {
      "text/plain": [
       "listing_type=for-sale                1.000000e+00\n",
       "property_type=house                  0.000000e+00\n",
       "first_price                          4.988456e-01\n",
       "diff_first_prediction                7.073631e-01\n",
       "prediction_price_per_square_meter    7.850618e-01\n",
       "surface_total                       -6.382789e-01\n",
       "page_on_marketplace                  3.011274e-01\n",
       "is_new_property_prob                 1.428333e+00\n",
       "total_cost_of_living                -3.815950e-01\n",
       "days_active                          1.003741e+00\n",
       "relative_cost_of_living             -5.110273e-03\n",
       "is_exterior                          0.000000e+00\n",
       "has_gym                              0.000000e+00\n",
       "pets_allowed                         1.000000e+00\n",
       "has_maintenance                      0.000000e+00\n",
       "num_bedrooms                        -5.263731e-01\n",
       "latitude                            -1.598695e+00\n",
       "longitude                            1.313502e+00\n",
       "woe_marketplace                      2.905330e-01\n",
       "woe_seller                          -1.120355e+00\n",
       "woe_id_sepomex                       2.712566e-01\n",
       "sine_tmonth                         -1.000000e+00\n",
       "cosine_tmonth                       -1.836970e-16\n",
       "Name: 0, dtype: float64"
      ]
     },
     "execution_count": 143,
     "metadata": {},
     "output_type": "execute_result"
    }
   ],
   "source": [
    "pd.DataFrame(X_test, columns=colnames_x_numeric).loc[0]"
   ]
  },
  {
   "cell_type": "code",
   "execution_count": 30,
   "metadata": {},
   "outputs": [
    {
     "data": {
      "text/html": [
       "<style>#sk-container-id-6 {color: black;}#sk-container-id-6 pre{padding: 0;}#sk-container-id-6 div.sk-toggleable {background-color: white;}#sk-container-id-6 label.sk-toggleable__label {cursor: pointer;display: block;width: 100%;margin-bottom: 0;padding: 0.3em;box-sizing: border-box;text-align: center;}#sk-container-id-6 label.sk-toggleable__label-arrow:before {content: \"▸\";float: left;margin-right: 0.25em;color: #696969;}#sk-container-id-6 label.sk-toggleable__label-arrow:hover:before {color: black;}#sk-container-id-6 div.sk-estimator:hover label.sk-toggleable__label-arrow:before {color: black;}#sk-container-id-6 div.sk-toggleable__content {max-height: 0;max-width: 0;overflow: hidden;text-align: left;background-color: #f0f8ff;}#sk-container-id-6 div.sk-toggleable__content pre {margin: 0.2em;color: black;border-radius: 0.25em;background-color: #f0f8ff;}#sk-container-id-6 input.sk-toggleable__control:checked~div.sk-toggleable__content {max-height: 200px;max-width: 100%;overflow: auto;}#sk-container-id-6 input.sk-toggleable__control:checked~label.sk-toggleable__label-arrow:before {content: \"▾\";}#sk-container-id-6 div.sk-estimator input.sk-toggleable__control:checked~label.sk-toggleable__label {background-color: #d4ebff;}#sk-container-id-6 div.sk-label input.sk-toggleable__control:checked~label.sk-toggleable__label {background-color: #d4ebff;}#sk-container-id-6 input.sk-hidden--visually {border: 0;clip: rect(1px 1px 1px 1px);clip: rect(1px, 1px, 1px, 1px);height: 1px;margin: -1px;overflow: hidden;padding: 0;position: absolute;width: 1px;}#sk-container-id-6 div.sk-estimator {font-family: monospace;background-color: #f0f8ff;border: 1px dotted black;border-radius: 0.25em;box-sizing: border-box;margin-bottom: 0.5em;}#sk-container-id-6 div.sk-estimator:hover {background-color: #d4ebff;}#sk-container-id-6 div.sk-parallel-item::after {content: \"\";width: 100%;border-bottom: 1px solid gray;flex-grow: 1;}#sk-container-id-6 div.sk-label:hover label.sk-toggleable__label {background-color: #d4ebff;}#sk-container-id-6 div.sk-serial::before {content: \"\";position: absolute;border-left: 1px solid gray;box-sizing: border-box;top: 0;bottom: 0;left: 50%;z-index: 0;}#sk-container-id-6 div.sk-serial {display: flex;flex-direction: column;align-items: center;background-color: white;padding-right: 0.2em;padding-left: 0.2em;position: relative;}#sk-container-id-6 div.sk-item {position: relative;z-index: 1;}#sk-container-id-6 div.sk-parallel {display: flex;align-items: stretch;justify-content: center;background-color: white;position: relative;}#sk-container-id-6 div.sk-item::before, #sk-container-id-6 div.sk-parallel-item::before {content: \"\";position: absolute;border-left: 1px solid gray;box-sizing: border-box;top: 0;bottom: 0;left: 50%;z-index: -1;}#sk-container-id-6 div.sk-parallel-item {display: flex;flex-direction: column;z-index: 1;position: relative;background-color: white;}#sk-container-id-6 div.sk-parallel-item:first-child::after {align-self: flex-end;width: 50%;}#sk-container-id-6 div.sk-parallel-item:last-child::after {align-self: flex-start;width: 50%;}#sk-container-id-6 div.sk-parallel-item:only-child::after {width: 0;}#sk-container-id-6 div.sk-dashed-wrapped {border: 1px dashed gray;margin: 0 0.4em 0.5em 0.4em;box-sizing: border-box;padding-bottom: 0.4em;background-color: white;}#sk-container-id-6 div.sk-label label {font-family: monospace;font-weight: bold;display: inline-block;line-height: 1.2em;}#sk-container-id-6 div.sk-label-container {text-align: center;}#sk-container-id-6 div.sk-container {/* jupyter's `normalize.less` sets `[hidden] { display: none; }` but bootstrap.min.css set `[hidden] { display: none !important; }` so we also need the `!important` here to be able to override the default hidden behavior on the sphinx rendered scikit-learn.org. See: https://github.com/scikit-learn/scikit-learn/issues/21755 */display: inline-block !important;position: relative;}#sk-container-id-6 div.sk-text-repr-fallback {display: none;}</style><div id=\"sk-container-id-6\" class=\"sk-top-container\"><div class=\"sk-text-repr-fallback\"><pre>XGBSEStackedWeibull(weibull_params={},\n",
       "                    xgb_params={&#x27;aft_loss_distribution&#x27;: &#x27;normal&#x27;,\n",
       "                                &#x27;aft_loss_distribution_scale&#x27;: 1,\n",
       "                                &#x27;booster&#x27;: &#x27;dart&#x27;, &#x27;colsample_bynode&#x27;: 0.5,\n",
       "                                &#x27;eval_metric&#x27;: &#x27;aft-nloglik&#x27;,\n",
       "                                &#x27;learning_rate&#x27;: 0.05, &#x27;max_depth&#x27;: 8,\n",
       "                                &#x27;min_child_weight&#x27;: 50,\n",
       "                                &#x27;objective&#x27;: &#x27;survival:aft&#x27;, &#x27;subsample&#x27;: 0.5,\n",
       "                                &#x27;tree_method&#x27;: &#x27;hist&#x27;})</pre><b>In a Jupyter environment, please rerun this cell to show the HTML representation or trust the notebook. <br />On GitHub, the HTML representation is unable to render, please try loading this page with nbviewer.org.</b></div><div class=\"sk-container\" hidden><div class=\"sk-item\"><div class=\"sk-estimator sk-toggleable\"><input class=\"sk-toggleable__control sk-hidden--visually\" id=\"sk-estimator-id-6\" type=\"checkbox\" checked><label for=\"sk-estimator-id-6\" class=\"sk-toggleable__label sk-toggleable__label-arrow\">XGBSEStackedWeibull</label><div class=\"sk-toggleable__content\"><pre>XGBSEStackedWeibull(weibull_params={},\n",
       "                    xgb_params={&#x27;aft_loss_distribution&#x27;: &#x27;normal&#x27;,\n",
       "                                &#x27;aft_loss_distribution_scale&#x27;: 1,\n",
       "                                &#x27;booster&#x27;: &#x27;dart&#x27;, &#x27;colsample_bynode&#x27;: 0.5,\n",
       "                                &#x27;eval_metric&#x27;: &#x27;aft-nloglik&#x27;,\n",
       "                                &#x27;learning_rate&#x27;: 0.05, &#x27;max_depth&#x27;: 8,\n",
       "                                &#x27;min_child_weight&#x27;: 50,\n",
       "                                &#x27;objective&#x27;: &#x27;survival:aft&#x27;, &#x27;subsample&#x27;: 0.5,\n",
       "                                &#x27;tree_method&#x27;: &#x27;hist&#x27;})</pre></div></div></div></div></div>"
      ],
      "text/plain": [
       "XGBSEStackedWeibull(weibull_params={},\n",
       "                    xgb_params={'aft_loss_distribution': 'normal',\n",
       "                                'aft_loss_distribution_scale': 1,\n",
       "                                'booster': 'dart', 'colsample_bynode': 0.5,\n",
       "                                'eval_metric': 'aft-nloglik',\n",
       "                                'learning_rate': 0.05, 'max_depth': 8,\n",
       "                                'min_child_weight': 50,\n",
       "                                'objective': 'survival:aft', 'subsample': 0.5,\n",
       "                                'tree_method': 'hist'})"
      ]
     },
     "execution_count": 30,
     "metadata": {},
     "output_type": "execute_result"
    }
   ],
   "source": [
    "cloudpickle.load(open(\"models/xgbse_weibull.pkl\", \"rb\"))"
   ]
  }
 ],
 "metadata": {
  "kernelspec": {
   "display_name": "dd3surv",
   "language": "python",
   "name": "python3"
  },
  "language_info": {
   "codemirror_mode": {
    "name": "ipython",
    "version": 3
   },
   "file_extension": ".py",
   "mimetype": "text/x-python",
   "name": "python",
   "nbconvert_exporter": "python",
   "pygments_lexer": "ipython3",
   "version": "3.9.18"
  }
 },
 "nbformat": 4,
 "nbformat_minor": 2
}
